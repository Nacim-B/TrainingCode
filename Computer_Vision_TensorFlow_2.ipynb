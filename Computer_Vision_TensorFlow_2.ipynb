{
 "cells": [
  {
   "cell_type": "code",
   "execution_count": 6,
   "id": "cf52283e",
   "metadata": {},
   "outputs": [],
   "source": [
    "import os"
   ]
  },
  {
   "cell_type": "code",
   "execution_count": 7,
   "id": "3b9131ab",
   "metadata": {},
   "outputs": [],
   "source": []
  },
  {
   "cell_type": "code",
   "execution_count": 8,
   "id": "3b4a0c6e",
   "metadata": {},
   "outputs": [
    {
     "name": "stdout",
     "output_type": "stream",
     "text": [
      "/bin/bash: -c: line 0: syntax error near unexpected token `LABELIMG_PATH'\n",
      "/bin/bash: -c: line 0: `mkdir (LABELIMG_PATH)'\n",
      "Cloning into 'data/dream_team_labelImg'...\n",
      "remote: Enumerating objects: 2097, done.\u001b[K\n",
      "remote: Counting objects: 100% (7/7), done.\u001b[K\n",
      "remote: Compressing objects: 100% (7/7), done.\u001b[K\n",
      "remote: Total 2097 (delta 0), reused 4 (delta 0), pack-reused 2090\u001b[K\n",
      "Receiving objects: 100% (2097/2097), 237.14 MiB | 21.96 MiB/s, done.\n",
      "Resolving deltas: 100% (1245/1245), done.\n"
     ]
    }
   ],
   "source": []
  },
  {
   "cell_type": "code",
   "execution_count": 9,
   "id": "06cea020",
   "metadata": {},
   "outputs": [
    {
     "name": "stdout",
     "output_type": "stream",
     "text": [
      "pyrcc5 -o libs/resources.py resources.qrc\r\n"
     ]
    }
   ],
   "source": []
  },
  {
   "cell_type": "code",
   "execution_count": 10,
   "id": "77e694e0",
   "metadata": {},
   "outputs": [
    {
     "name": "stdout",
     "output_type": "stream",
     "text": [
      "Image:/Users/pctest/Documents/MyGitProjects/Training Code/data/dream_team/Larry_Bird/Larry_Bird1.jpeg -> Annotation:/Users/pctest/Documents/MyGitProjects/Training Code/data/dream_team/Larry_Bird/Larry_Bird1.xml\n",
      "Image:/Users/pctest/Documents/MyGitProjects/Training Code/data/dream_team/Larry_Bird/Larry_Bird2.jpeg -> Annotation:/Users/pctest/Documents/MyGitProjects/Training Code/data/dream_team/Larry_Bird/Larry_Bird2.xml\n",
      "Image:/Users/pctest/Documents/MyGitProjects/Training Code/data/dream_team/Larry_Bird/Larry_Bird0.jpeg -> Annotation:/Users/pctest/Documents/MyGitProjects/Training Code/data/dream_team/Larry_Bird/Larry_Bird0.xml\n",
      "Image:/Users/pctest/Documents/MyGitProjects/Training Code/data/dream_team/Larry_Bird/Larry_Bird3.jpeg -> Annotation:/Users/pctest/Documents/MyGitProjects/Training Code/data/dream_team/Larry_Bird/Larry_Bird3.xml\n",
      "Image:/Users/pctest/Documents/MyGitProjects/Training Code/data/dream_team/Larry_Bird/Larry_Bird4.jpeg -> Annotation:/Users/pctest/Documents/MyGitProjects/Training Code/data/dream_team/Larry_Bird/Larry_Bird4.xml\n",
      "Image:/Users/pctest/Documents/MyGitProjects/Training Code/data/dream_team/Magic_Johnson/Magic_Johnson0.jpeg -> Annotation:/Users/pctest/Documents/MyGitProjects/Training Code/data/dream_team/Magic_Johnson/Magic_Johnson0.xml\n",
      "Image:/Users/pctest/Documents/MyGitProjects/Training Code/data/dream_team/Magic_Johnson/Magic_Johnson1.jpeg -> Annotation:/Users/pctest/Documents/MyGitProjects/Training Code/data/dream_team/Magic_Johnson/Magic_Johnson1.xml\n",
      "Image:/Users/pctest/Documents/MyGitProjects/Training Code/data/dream_team/Magic_Johnson/Magic_Johnson2.jpeg -> Annotation:/Users/pctest/Documents/MyGitProjects/Training Code/data/dream_team/Magic_Johnson/Magic_Johnson2.xml\n",
      "Image:/Users/pctest/Documents/MyGitProjects/Training Code/data/dream_team/Magic_Johnson/Magic_Johnson4.jpeg -> Annotation:/Users/pctest/Documents/MyGitProjects/Training Code/data/dream_team/Magic_Johnson/Magic_Johnson4.xml\n",
      "Image:/Users/pctest/Documents/MyGitProjects/Training Code/data/dream_team/Michael_Jordan/Michael_Jordan0.jpeg -> Annotation:/Users/pctest/Documents/MyGitProjects/Training Code/data/dream_team/Michael_Jordan/Michael_Jordan0.xml\n",
      "Image:/Users/pctest/Documents/MyGitProjects/Training Code/data/dream_team/Michael_Jordan/Michael_Jordan1.jpeg -> Annotation:/Users/pctest/Documents/MyGitProjects/Training Code/data/dream_team/Michael_Jordan/Michael_Jordan1.xml\n",
      "Image:/Users/pctest/Documents/MyGitProjects/Training Code/data/dream_team/Michael_Jordan/Michael_Jordan2.jpeg -> Annotation:/Users/pctest/Documents/MyGitProjects/Training Code/data/dream_team/Michael_Jordan/Michael_Jordan2.xml\n",
      "Image:/Users/pctest/Documents/MyGitProjects/Training Code/data/dream_team/Michael_Jordan/Michael_Jordan3.jpeg -> Annotation:/Users/pctest/Documents/MyGitProjects/Training Code/data/dream_team/Michael_Jordan/Michael_Jordan3.xml\n"
     ]
    }
   ],
   "source": []
  },
  {
   "cell_type": "code",
   "execution_count": null,
   "id": "d6f1f7df",
   "metadata": {},
   "outputs": [],
   "source": []
  }
 ],
 "metadata": {
  "kernelspec": {
   "display_name": "Python 3 (ipykernel)",
   "language": "python",
   "name": "python3"
  },
  "language_info": {
   "codemirror_mode": {
    "name": "ipython",
    "version": 3
   },
   "file_extension": ".py",
   "mimetype": "text/x-python",
   "name": "python",
   "nbconvert_exporter": "python",
   "pygments_lexer": "ipython3",
   "version": "3.9.16"
  }
 },
 "nbformat": 4,
 "nbformat_minor": 5
}
