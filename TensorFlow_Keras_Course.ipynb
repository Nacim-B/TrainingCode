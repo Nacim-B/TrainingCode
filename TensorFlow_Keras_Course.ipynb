{
 "cells": [
  {
   "cell_type": "code",
   "execution_count": 13,
   "id": "60d4788f",
   "metadata": {},
   "outputs": [],
   "source": [
    "import numpy as np\n",
    "from random import randint\n",
    "from sklearn.utils import shuffle\n",
    "from sklearn.preprocessing import MinMaxScaler"
   ]
  },
  {
   "cell_type": "code",
   "execution_count": 14,
   "id": "a227eec9",
   "metadata": {},
   "outputs": [],
   "source": [
    "train_labels = []\n",
    "train_samples = []"
   ]
  },
  {
   "cell_type": "markdown",
   "id": "99ddef43",
   "metadata": {},
   "source": [
    "2100 participants tested\n",
    "50% over 65 years old\n",
    "50% under 65 years old\n",
    "\n",
    "95% of >= 65 had side effects to the drug\n",
    "95% of < 65 had not side effect to the drug"
   ]
  },
  {
   "cell_type": "code",
   "execution_count": 15,
   "id": "ab656597",
   "metadata": {},
   "outputs": [],
   "source": [
    "for i in range(50):\n",
    "    random_younger = randint(13,64)\n",
    "    train_samples.append(random_younger)\n",
    "    train_labels.append(1)\n",
    "    \n",
    "    random_older = randint(65,100)\n",
    "    train_samples.append(random_older)\n",
    "    train_labels.append(0)\n",
    "\n",
    "for i in range(1000):\n",
    "    random_younger = randint(13,64)\n",
    "    train_samples.append(random_younger)\n",
    "    train_labels.append(0)\n",
    "    \n",
    "    random_older = randint(65,100)\n",
    "    train_samples.append(random_older)\n",
    "    train_labels.append(1)"
   ]
  },
  {
   "cell_type": "code",
   "execution_count": 16,
   "id": "8b822bd7",
   "metadata": {},
   "outputs": [],
   "source": [
    "train_labels = np.array(train_labels)\n",
    "train_samples = np.array(train_samples)\n",
    "train_labels, train_samples = shuffle(train_labels, train_samples)"
   ]
  },
  {
   "cell_type": "code",
   "execution_count": 17,
   "id": "13658c86",
   "metadata": {},
   "outputs": [],
   "source": [
    "scaler = MinMaxScaler(feature_range=(0,1))\n",
    "scaled_train_samples = scaler.fit_transform(train_samples.reshape(-1,1))"
   ]
  },
  {
   "cell_type": "code",
   "execution_count": 18,
   "id": "ce5740c8",
   "metadata": {},
   "outputs": [
    {
     "data": {
      "text/plain": [
       "array([[0.01149425],\n",
       "       [0.33333333],\n",
       "       [0.96551724],\n",
       "       ...,\n",
       "       [0.73563218],\n",
       "       [0.34482759],\n",
       "       [0.26436782]])"
      ]
     },
     "execution_count": 18,
     "metadata": {},
     "output_type": "execute_result"
    }
   ],
   "source": [
    "scaled_train_samples"
   ]
  },
  {
   "cell_type": "code",
   "execution_count": 19,
   "id": "c8841d38",
   "metadata": {},
   "outputs": [
    {
     "data": {
      "text/plain": [
       "array([0, 0, 1, ..., 1, 0, 0])"
      ]
     },
     "execution_count": 19,
     "metadata": {},
     "output_type": "execute_result"
    }
   ],
   "source": [
    "train_labels"
   ]
  },
  {
   "cell_type": "code",
   "execution_count": 22,
   "id": "7a1f9c4f",
   "metadata": {},
   "outputs": [],
   "source": [
    "import tensorflow as tf\n",
    "from tensorflow import keras\n",
    "from tensorflow.keras.models import Sequential\n",
    "from tensorflow.keras.layers import Activation, Dense\n",
    "from tensorflow.keras.optimizers import Adam\n",
    "from tensorflow.keras.metrics import categorical_crossentropy"
   ]
  },
  {
   "cell_type": "code",
   "execution_count": 27,
   "id": "d8b896a8",
   "metadata": {},
   "outputs": [],
   "source": [
    "model = Sequential ([\n",
    "    Dense(units=16, input_shape=(1,), activation='relu'),\n",
    "    Dense(units=32, activation='relu'),\n",
    "    Dense(units=2, activation='softmax')\n",
    "])"
   ]
  },
  {
   "cell_type": "code",
   "execution_count": 28,
   "id": "d5253f82",
   "metadata": {},
   "outputs": [
    {
     "name": "stdout",
     "output_type": "stream",
     "text": [
      "Model: \"sequential_1\"\n",
      "_________________________________________________________________\n",
      " Layer (type)                Output Shape              Param #   \n",
      "=================================================================\n",
      " dense_3 (Dense)             (None, 16)                32        \n",
      "                                                                 \n",
      " dense_4 (Dense)             (None, 32)                544       \n",
      "                                                                 \n",
      " dense_5 (Dense)             (None, 2)                 66        \n",
      "                                                                 \n",
      "=================================================================\n",
      "Total params: 642\n",
      "Trainable params: 642\n",
      "Non-trainable params: 0\n",
      "_________________________________________________________________\n"
     ]
    }
   ],
   "source": [
    "model.summary()"
   ]
  },
  {
   "cell_type": "code",
   "execution_count": 29,
   "id": "9fc118e7",
   "metadata": {},
   "outputs": [],
   "source": [
    "model.compile(optimizer=Adam(learning_rate=0.0001), loss='sparse_categorical_crossentropy', metrics=['accuracy'])"
   ]
  },
  {
   "cell_type": "code",
   "execution_count": 32,
   "id": "71dcba9c",
   "metadata": {},
   "outputs": [
    {
     "name": "stdout",
     "output_type": "stream",
     "text": [
      "Epoch 1/30\n",
      "189/189 - 2s - loss: 0.6425 - accuracy: 0.5466 - val_loss: 0.6305 - val_accuracy: 0.5810 - 2s/epoch - 11ms/step\n",
      "Epoch 2/30\n",
      "189/189 - 1s - loss: 0.6226 - accuracy: 0.6291 - val_loss: 0.6028 - val_accuracy: 0.7238 - 637ms/epoch - 3ms/step\n",
      "Epoch 3/30\n",
      "189/189 - 1s - loss: 0.5951 - accuracy: 0.6963 - val_loss: 0.5715 - val_accuracy: 0.7762 - 509ms/epoch - 3ms/step\n",
      "Epoch 4/30\n",
      "189/189 - 0s - loss: 0.5668 - accuracy: 0.7397 - val_loss: 0.5422 - val_accuracy: 0.8095 - 468ms/epoch - 2ms/step\n",
      "Epoch 5/30\n",
      "189/189 - 0s - loss: 0.5413 - accuracy: 0.7667 - val_loss: 0.5147 - val_accuracy: 0.8238 - 474ms/epoch - 3ms/step\n",
      "Epoch 6/30\n",
      "189/189 - 0s - loss: 0.5166 - accuracy: 0.7836 - val_loss: 0.4880 - val_accuracy: 0.8524 - 487ms/epoch - 3ms/step\n",
      "Epoch 7/30\n",
      "189/189 - 0s - loss: 0.4923 - accuracy: 0.8132 - val_loss: 0.4623 - val_accuracy: 0.8571 - 483ms/epoch - 3ms/step\n",
      "Epoch 8/30\n",
      "189/189 - 1s - loss: 0.4685 - accuracy: 0.8328 - val_loss: 0.4375 - val_accuracy: 0.8619 - 590ms/epoch - 3ms/step\n",
      "Epoch 9/30\n",
      "189/189 - 0s - loss: 0.4457 - accuracy: 0.8508 - val_loss: 0.4145 - val_accuracy: 0.8762 - 464ms/epoch - 2ms/step\n",
      "Epoch 10/30\n",
      "189/189 - 0s - loss: 0.4244 - accuracy: 0.8672 - val_loss: 0.3928 - val_accuracy: 0.8762 - 472ms/epoch - 2ms/step\n",
      "Epoch 11/30\n",
      "189/189 - 0s - loss: 0.4048 - accuracy: 0.8767 - val_loss: 0.3729 - val_accuracy: 0.8762 - 497ms/epoch - 3ms/step\n",
      "Epoch 12/30\n",
      "189/189 - 0s - loss: 0.3869 - accuracy: 0.8841 - val_loss: 0.3554 - val_accuracy: 0.8857 - 460ms/epoch - 2ms/step\n",
      "Epoch 13/30\n",
      "189/189 - 0s - loss: 0.3706 - accuracy: 0.8921 - val_loss: 0.3396 - val_accuracy: 0.8857 - 457ms/epoch - 2ms/step\n",
      "Epoch 14/30\n",
      "189/189 - 0s - loss: 0.3562 - accuracy: 0.8942 - val_loss: 0.3259 - val_accuracy: 0.9000 - 455ms/epoch - 2ms/step\n",
      "Epoch 15/30\n",
      "189/189 - 0s - loss: 0.3434 - accuracy: 0.9026 - val_loss: 0.3138 - val_accuracy: 0.9048 - 450ms/epoch - 2ms/step\n",
      "Epoch 16/30\n",
      "189/189 - 0s - loss: 0.3321 - accuracy: 0.9095 - val_loss: 0.3030 - val_accuracy: 0.9048 - 441ms/epoch - 2ms/step\n",
      "Epoch 17/30\n",
      "189/189 - 0s - loss: 0.3225 - accuracy: 0.9127 - val_loss: 0.2940 - val_accuracy: 0.9048 - 456ms/epoch - 2ms/step\n",
      "Epoch 18/30\n",
      "189/189 - 0s - loss: 0.3140 - accuracy: 0.9153 - val_loss: 0.2863 - val_accuracy: 0.9048 - 490ms/epoch - 3ms/step\n",
      "Epoch 19/30\n",
      "189/189 - 0s - loss: 0.3068 - accuracy: 0.9201 - val_loss: 0.2799 - val_accuracy: 0.9238 - 468ms/epoch - 2ms/step\n",
      "Epoch 20/30\n",
      "189/189 - 0s - loss: 0.3007 - accuracy: 0.9270 - val_loss: 0.2735 - val_accuracy: 0.9238 - 450ms/epoch - 2ms/step\n",
      "Epoch 21/30\n",
      "189/189 - 0s - loss: 0.2953 - accuracy: 0.9259 - val_loss: 0.2693 - val_accuracy: 0.9238 - 478ms/epoch - 3ms/step\n",
      "Epoch 22/30\n",
      "189/189 - 0s - loss: 0.2905 - accuracy: 0.9307 - val_loss: 0.2641 - val_accuracy: 0.9238 - 464ms/epoch - 2ms/step\n",
      "Epoch 23/30\n",
      "189/189 - 0s - loss: 0.2868 - accuracy: 0.9302 - val_loss: 0.2607 - val_accuracy: 0.9238 - 478ms/epoch - 3ms/step\n",
      "Epoch 24/30\n",
      "189/189 - 0s - loss: 0.2835 - accuracy: 0.9323 - val_loss: 0.2581 - val_accuracy: 0.9381 - 466ms/epoch - 2ms/step\n",
      "Epoch 25/30\n",
      "189/189 - 1s - loss: 0.2803 - accuracy: 0.9307 - val_loss: 0.2559 - val_accuracy: 0.9381 - 721ms/epoch - 4ms/step\n",
      "Epoch 26/30\n",
      "189/189 - 1s - loss: 0.2778 - accuracy: 0.9349 - val_loss: 0.2534 - val_accuracy: 0.9381 - 780ms/epoch - 4ms/step\n",
      "Epoch 27/30\n",
      "189/189 - 0s - loss: 0.2758 - accuracy: 0.9349 - val_loss: 0.2510 - val_accuracy: 0.9381 - 463ms/epoch - 2ms/step\n",
      "Epoch 28/30\n",
      "189/189 - 0s - loss: 0.2736 - accuracy: 0.9349 - val_loss: 0.2493 - val_accuracy: 0.9381 - 495ms/epoch - 3ms/step\n",
      "Epoch 29/30\n",
      "189/189 - 0s - loss: 0.2719 - accuracy: 0.9344 - val_loss: 0.2474 - val_accuracy: 0.9381 - 460ms/epoch - 2ms/step\n",
      "Epoch 30/30\n",
      "189/189 - 0s - loss: 0.2706 - accuracy: 0.9386 - val_loss: 0.2457 - val_accuracy: 0.9381 - 479ms/epoch - 3ms/step\n"
     ]
    },
    {
     "data": {
      "text/plain": [
       "<keras.callbacks.History at 0x7fbe6315dd60>"
      ]
     },
     "execution_count": 32,
     "metadata": {},
     "output_type": "execute_result"
    }
   ],
   "source": [
    "model.fit(scaled_train_samples, train_labels, \n",
    "          validation_split=0.1, batch_size=10, epochs=30, shuffle=True, verbose=2)"
   ]
  },
  {
   "cell_type": "code",
   "execution_count": 33,
   "id": "79c16ab9",
   "metadata": {},
   "outputs": [],
   "source": [
    "#test set creation"
   ]
  },
  {
   "cell_type": "code",
   "execution_count": 35,
   "id": "3ab78980",
   "metadata": {},
   "outputs": [],
   "source": [
    "test_labels = []\n",
    "test_samples = []"
   ]
  },
  {
   "cell_type": "code",
   "execution_count": 36,
   "id": "9fabc97e",
   "metadata": {},
   "outputs": [],
   "source": [
    "for i in range(50):\n",
    "    random_younger = randint(13,64)\n",
    "    test_samples.append(random_younger)\n",
    "    test_labels.append(1)\n",
    "    \n",
    "    random_older = randint(65,100)\n",
    "    test_samples.append(random_older)\n",
    "    test_labels.append(0)\n",
    "\n",
    "for i in range(1000):\n",
    "    random_younger = randint(13,64)\n",
    "    test_samples.append(random_younger)\n",
    "    test_labels.append(0)\n",
    "    \n",
    "    random_older = randint(65,100)\n",
    "    test_samples.append(random_older)\n",
    "    test_labels.append(1)"
   ]
  },
  {
   "cell_type": "code",
   "execution_count": 40,
   "id": "1245fe1c",
   "metadata": {},
   "outputs": [],
   "source": [
    "test_labels = np.array(test_labels)\n",
    "test_samples = np.array(test_samples)\n",
    "test_labels, test_samples = shuffle(test_labels, test_samples)\n",
    "scaled_test_samples = scaler.fit_transform(test_samples.reshape(-1,1))"
   ]
  },
  {
   "cell_type": "code",
   "execution_count": 41,
   "id": "e9cb2085",
   "metadata": {},
   "outputs": [
    {
     "data": {
      "text/plain": [
       "array([77, 45, 39, ..., 40, 16, 47])"
      ]
     },
     "execution_count": 41,
     "metadata": {},
     "output_type": "execute_result"
    }
   ],
   "source": [
    "test_samples"
   ]
  },
  {
   "cell_type": "code",
   "execution_count": 42,
   "id": "551346c6",
   "metadata": {},
   "outputs": [],
   "source": [
    "predictions = model.predict(x=scaled_test_samples, batch_size=10, verbose=0)"
   ]
  },
  {
   "cell_type": "code",
   "execution_count": 43,
   "id": "828b7b7b",
   "metadata": {},
   "outputs": [
    {
     "data": {
      "text/plain": [
       "array([[0.13809624, 0.8619037 ],\n",
       "       [0.8991572 , 0.10084273],\n",
       "       [0.94103056, 0.05896949],\n",
       "       ...,\n",
       "       [0.9369783 , 0.0630216 ],\n",
       "       [0.9445962 , 0.05540386],\n",
       "       [0.8760575 , 0.12394252]], dtype=float32)"
      ]
     },
     "execution_count": 43,
     "metadata": {},
     "output_type": "execute_result"
    }
   ],
   "source": [
    "predictions"
   ]
  },
  {
   "cell_type": "code",
   "execution_count": 45,
   "id": "28a6e5a4",
   "metadata": {},
   "outputs": [],
   "source": [
    "rounded_predictions = np.argmax(predictions, axis= -1)"
   ]
  },
  {
   "cell_type": "code",
   "execution_count": 48,
   "id": "50e23cbe",
   "metadata": {},
   "outputs": [
    {
     "data": {
      "text/plain": [
       "array([1, 0, 0, ..., 0, 0, 0])"
      ]
     },
     "execution_count": 48,
     "metadata": {},
     "output_type": "execute_result"
    }
   ],
   "source": [
    "rounded_predictions"
   ]
  },
  {
   "cell_type": "code",
   "execution_count": 52,
   "id": "23052c4c",
   "metadata": {},
   "outputs": [],
   "source": [
    "from sklearn.metrics import confusion_matrix\n",
    "import itertools \n",
    "import matplotlib.pyplot as plt\n",
    "import seaborn as sns"
   ]
  },
  {
   "cell_type": "code",
   "execution_count": 50,
   "id": "cbfe9aa7",
   "metadata": {},
   "outputs": [],
   "source": [
    "cm = confusion_matrix(test_labels, rounded_predictions)"
   ]
  },
  {
   "cell_type": "code",
   "execution_count": 76,
   "id": "1d4b2a99",
   "metadata": {},
   "outputs": [
    {
     "data": {
      "text/plain": [
       "<Axes: xlabel='Predictions', ylabel='True Label'>"
      ]
     },
     "execution_count": 76,
     "metadata": {},
     "output_type": "execute_result"
    },
    {
     "data": {
      "image/png": "[encoded data removed]",
      "text/plain": [
       "<Figure size 640x480 with 2 Axes>"
      ]
     },
     "metadata": {},
     "output_type": "display_data"
    }
   ],
   "source": [
    "columns = ['no_side_effects', 'had_side_effects']\n",
    "\n",
    "ax = sns.heatmap(cm,annot=True, fmt=\".1f\", cmap='crest')\n",
    "ax.set(xlabel = \"Predictions\", ylabel='True Label')\n",
    "ax"
   ]
  },
  {
   "cell_type": "code",
   "execution_count": 77,
   "id": "1aac6604",
   "metadata": {},
   "outputs": [],
   "source": [
    "model.save('models/sequential_model_v1.h5')"
   ]
  },
  {
   "cell_type": "code",
   "execution_count": 78,
   "id": "50255225",
   "metadata": {},
   "outputs": [],
   "source": [
    "from tensorflow.keras.models import load_model"
   ]
  },
  {
   "cell_type": "code",
   "execution_count": 79,
   "id": "a7ae6cfd",
   "metadata": {},
   "outputs": [],
   "source": [
    "new_model = load_model('models/sequential_model_v1.h5')"
   ]
  },
  {
   "cell_type": "code",
   "execution_count": 80,
   "id": "2366d995",
   "metadata": {},
   "outputs": [
    {
     "name": "stdout",
     "output_type": "stream",
     "text": [
      "Model: \"sequential_1\"\n",
      "_________________________________________________________________\n",
      " Layer (type)                Output Shape              Param #   \n",
      "=================================================================\n",
      " dense_3 (Dense)             (None, 16)                32        \n",
      "                                                                 \n",
      " dense_4 (Dense)             (None, 32)                544       \n",
      "                                                                 \n",
      " dense_5 (Dense)             (None, 2)                 66        \n",
      "                                                                 \n",
      "=================================================================\n",
      "Total params: 642\n",
      "Trainable params: 642\n",
      "Non-trainable params: 0\n",
      "_________________________________________________________________\n"
     ]
    }
   ],
   "source": [
    "new_model.summary()"
   ]
  },
  {
   "cell_type": "code",
   "execution_count": 81,
   "id": "6fa7f8d8",
   "metadata": {},
   "outputs": [
    {
     "data": {
      "text/plain": [
       "[array([[-0.18627039, -0.2761218 ,  0.43766907,  0.68999624, -0.15220666,\n",
       "          0.5471387 , -0.19488841,  0.125794  , -0.15250483,  0.36994258,\n",
       "         -0.05326819,  0.40555292, -0.09865674, -0.44847375, -0.40827653,\n",
       "          0.2679014 ]], dtype=float32),\n",
       " array([ 0.        ,  0.        , -0.12093325, -0.14029434,  0.        ,\n",
       "        -0.13086723,  0.        ,  0.29786304,  0.        , -0.12084509,\n",
       "         0.        , -0.12019855,  0.        ,  0.        ,  0.        ,\n",
       "         0.3008825 ], dtype=float32),\n",
       " array([[-6.46075010e-02,  1.76069885e-01,  6.53828382e-02,\n",
       "          1.67586714e-01, -2.15876326e-01,  2.24607021e-01,\n",
       "         -1.80873200e-01, -1.56210631e-01, -3.31029952e-01,\n",
       "         -1.11325920e-01, -1.63431481e-01, -2.29230553e-01,\n",
       "          5.84499240e-02,  1.86838806e-02,  2.48330981e-01,\n",
       "          8.74860585e-02,  1.84222847e-01,  2.64367968e-01,\n",
       "          2.16901898e-02,  3.40812057e-01,  2.98581332e-01,\n",
       "          1.87484175e-01,  1.80878669e-01, -1.06474742e-01,\n",
       "         -3.08163404e-01,  1.16403848e-01, -3.37703049e-01,\n",
       "         -2.92233169e-01,  1.71265990e-01,  2.94324845e-01,\n",
       "         -1.57160953e-01,  1.03287697e-02],\n",
       "        [ 2.62677878e-01, -1.93831414e-01,  1.29964530e-01,\n",
       "         -6.75349236e-02, -7.88348913e-03, -1.36801898e-02,\n",
       "          1.22839421e-01,  3.46336931e-01,  3.21907252e-01,\n",
       "         -6.90571964e-02, -2.99555063e-03,  3.44073445e-01,\n",
       "         -2.35830918e-01, -8.89711380e-02, -6.01094961e-02,\n",
       "          1.11057281e-01,  3.13264698e-01,  2.72760481e-01,\n",
       "          5.28371334e-02,  2.41316348e-01,  2.62480050e-01,\n",
       "         -2.11648062e-01,  8.86886716e-02,  1.84785694e-01,\n",
       "         -2.87341267e-01,  2.72783637e-02,  1.53151959e-01,\n",
       "          2.77121156e-01, -6.63280189e-02,  2.02250689e-01,\n",
       "         -3.51083487e-01,  8.98760557e-02],\n",
       "        [ 9.75210667e-02, -2.62760401e-01, -4.62344617e-01,\n",
       "          1.42148003e-01,  5.12044251e-01,  3.43301296e-01,\n",
       "          1.62511498e-01, -2.36104310e-01,  2.46384770e-01,\n",
       "         -6.21823668e-02,  5.34852028e-01, -1.36808842e-01,\n",
       "          1.15878195e-01, -2.08788067e-01,  2.22342685e-01,\n",
       "          3.65958273e-01,  4.68176603e-02,  3.57102722e-01,\n",
       "         -2.90008128e-01,  8.09429288e-02,  2.71785140e-01,\n",
       "          6.81631565e-02, -8.10821950e-02, -7.88198337e-02,\n",
       "         -2.53027916e-01,  3.75248715e-02,  4.29536730e-01,\n",
       "          4.43899512e-01,  5.13034284e-01,  5.20538867e-01,\n",
       "          5.48126101e-01, -2.09761411e-01],\n",
       "        [-7.91778266e-02, -1.68109447e-01, -1.96207032e-01,\n",
       "          3.53428334e-01,  1.84087023e-01,  4.15634871e-01,\n",
       "         -4.23444211e-02, -2.63087004e-01,  9.80057269e-02,\n",
       "         -1.61920935e-01,  1.40741006e-01,  1.73093706e-01,\n",
       "         -8.84418339e-02, -1.18001997e-02,  4.80378181e-01,\n",
       "          4.03538793e-01, -3.49026918e-03,  3.39928478e-01,\n",
       "         -1.94682494e-01, -4.48223948e-03,  2.74570227e-01,\n",
       "          1.08553171e-01,  1.65080726e-02,  1.54590830e-01,\n",
       "         -4.81339125e-03,  1.05250411e-01,  4.42144305e-01,\n",
       "         -6.03248514e-02,  4.59384918e-01,  2.26665869e-01,\n",
       "          3.15071255e-01, -2.02208191e-01],\n",
       "        [-2.42546514e-01, -3.08625281e-01, -1.64621294e-01,\n",
       "          3.32198054e-01, -2.04327658e-01, -8.10342133e-02,\n",
       "          1.53878480e-01, -3.52350265e-01,  2.93624848e-01,\n",
       "          2.01829225e-01, -2.58574694e-01, -3.16101015e-01,\n",
       "         -1.30689025e-01,  2.48790652e-01, -2.34610170e-01,\n",
       "          3.09328288e-01, -3.27232599e-01, -1.60631835e-02,\n",
       "          2.98674077e-01,  5.53759933e-02, -3.45959693e-01,\n",
       "         -4.04877663e-02, -3.02035093e-01,  2.42551833e-01,\n",
       "          1.50765032e-01, -1.13372833e-01,  1.47853792e-02,\n",
       "          1.10197395e-01, -3.09324652e-01, -6.85623884e-02,\n",
       "         -2.82798111e-01,  2.95951813e-01],\n",
       "        [ 1.00210279e-01, -3.41526181e-01, -7.95167461e-02,\n",
       "          4.78082955e-01,  3.09979022e-01,  3.37703645e-01,\n",
       "         -2.80234039e-01, -3.47990423e-01,  9.79506783e-03,\n",
       "          3.21546793e-02,  2.42860571e-01, -2.48110145e-01,\n",
       "         -3.39181155e-01, -3.32974583e-01,  4.11930919e-01,\n",
       "          5.18410623e-01, -3.04416567e-01,  4.24953520e-01,\n",
       "         -3.86201173e-01, -3.50462258e-01, -7.08806142e-02,\n",
       "         -3.51454794e-01, -1.75771147e-01, -5.05211473e-01,\n",
       "         -4.15443033e-01, -2.41198927e-01,  1.96473405e-01,\n",
       "          3.08113426e-01,  1.49912536e-01,  2.99081981e-01,\n",
       "          1.93704829e-01, -1.96824595e-02],\n",
       "        [-3.17024797e-01, -1.34822875e-01,  9.86672938e-02,\n",
       "          3.34355265e-01, -1.17165282e-01, -3.28361034e-01,\n",
       "          3.91597450e-02, -1.17325276e-01,  2.03018934e-01,\n",
       "          2.91305631e-01,  1.70070022e-01,  1.50491297e-02,\n",
       "         -3.35869312e-01,  1.01921707e-01, -3.96251678e-04,\n",
       "          1.63864404e-01, -2.20889777e-01,  3.41518968e-01,\n",
       "          1.54519111e-01, -2.06686541e-01,  2.77361304e-01,\n",
       "          2.31902987e-01,  2.96789259e-01, -3.46934140e-01,\n",
       "          1.45091712e-01, -2.83513010e-01, -2.48591214e-01,\n",
       "         -2.89314330e-01, -2.65766799e-01, -1.68613270e-01,\n",
       "          3.32779557e-01, -9.84045565e-02],\n",
       "        [ 1.97476506e-01, -2.01242194e-01,  4.21434313e-01,\n",
       "          7.44024366e-02,  3.00341994e-01,  2.13724926e-01,\n",
       "          2.86609530e-02,  2.09983662e-01, -2.03919023e-01,\n",
       "          7.16537833e-02, -1.68403089e-02, -1.06135875e-01,\n",
       "         -3.43602657e-01, -2.41147399e-01,  3.24695796e-01,\n",
       "          1.14520214e-01, -2.09491834e-01, -1.68246463e-01,\n",
       "          5.05778730e-01, -2.91968882e-02,  2.51429588e-01,\n",
       "          2.84232736e-01,  2.64099777e-01,  1.43099353e-01,\n",
       "          3.47123086e-01,  1.85325474e-01,  1.16931433e-02,\n",
       "          1.68462396e-01,  1.04034513e-01,  2.85288751e-01,\n",
       "         -8.09309557e-02,  2.07068637e-01],\n",
       "        [-2.57857800e-01, -4.58545089e-02,  7.89463520e-02,\n",
       "         -2.59849638e-01,  3.02187532e-01, -2.08337009e-02,\n",
       "         -2.09908411e-01,  3.39678973e-01,  1.11974061e-01,\n",
       "         -4.21464443e-04, -2.67989874e-01, -3.32813263e-01,\n",
       "          1.51961416e-01, -3.38251203e-01,  2.50558287e-01,\n",
       "          1.52558774e-01,  2.86904722e-01,  1.42958999e-01,\n",
       "          3.39199334e-01,  2.18767494e-01, -5.64927161e-02,\n",
       "          3.18967789e-01,  3.03662330e-01, -4.14732695e-02,\n",
       "         -1.06682867e-01, -3.21669877e-02, -2.31712401e-01,\n",
       "          7.37285018e-02, -2.46595144e-01, -2.25974202e-01,\n",
       "         -8.90262723e-02,  1.87233001e-01],\n",
       "        [-2.37748682e-01,  8.00135136e-02, -4.69486654e-01,\n",
       "          5.45957565e-01,  2.87374079e-01,  4.47010875e-01,\n",
       "          4.16213572e-02, -4.87877816e-01,  3.08652401e-01,\n",
       "         -1.44650847e-01,  3.87979120e-01,  7.22010136e-02,\n",
       "          2.98384577e-01,  7.52508342e-02,  2.34186068e-01,\n",
       "          2.29450881e-01,  5.84795177e-02,  2.41171271e-01,\n",
       "         -7.36666024e-02, -2.41042703e-01,  3.15484166e-01,\n",
       "         -3.10952187e-01, -2.90508091e-01, -1.75442576e-01,\n",
       "         -7.60602951e-02, -2.50334978e-01,  2.25521788e-01,\n",
       "          3.67203891e-01,  2.49623343e-01,  1.39299169e-01,\n",
       "          6.56045303e-02, -2.38735855e-01],\n",
       "        [-1.70568377e-01,  2.17881233e-01, -5.36281466e-02,\n",
       "          1.65895373e-01,  8.91512930e-02, -3.00299495e-01,\n",
       "          1.71955496e-01, -1.00889772e-01,  3.45374197e-01,\n",
       "          1.94711596e-01, -2.67602801e-01,  2.30513424e-01,\n",
       "         -3.38438094e-01, -2.05728710e-01, -3.08518291e-01,\n",
       "          1.36428416e-01, -2.35655248e-01, -9.29973423e-02,\n",
       "          2.78338701e-01, -6.66806102e-02, -3.35163862e-01,\n",
       "         -2.49639064e-01,  1.92114025e-01,  1.72008723e-01,\n",
       "         -7.44985044e-02, -2.41651535e-02,  9.77647603e-02,\n",
       "          7.45190084e-02, -2.04073265e-01,  2.80675739e-01,\n",
       "          6.07422888e-02, -3.41602296e-01],\n",
       "        [-1.86756730e-01,  3.00638586e-01, -4.99081761e-01,\n",
       "          4.43481095e-02,  3.42366509e-02, -3.18932533e-02,\n",
       "         -1.83551624e-01, -2.63795823e-01,  4.73915279e-01,\n",
       "         -7.76011944e-02, -8.25562477e-02, -4.09956574e-02,\n",
       "         -2.75935501e-01,  1.65552586e-01,  1.01098269e-01,\n",
       "          1.06630504e-01,  2.23197550e-01,  4.67572480e-01,\n",
       "         -4.04584020e-01,  2.38212377e-01,  5.55752277e-01,\n",
       "          2.09758550e-01,  7.02743828e-02, -4.25225645e-01,\n",
       "         -5.77891707e-01, -3.85704599e-02,  2.25939408e-01,\n",
       "          3.15479875e-01,  2.76322812e-01,  1.28948569e-01,\n",
       "          5.37008286e-01, -9.46551561e-03],\n",
       "        [-9.63078141e-02,  3.20584446e-01,  2.20483810e-01,\n",
       "         -2.97606051e-01,  3.32366019e-01,  5.58504760e-02,\n",
       "         -1.20316744e-02, -1.62175894e-02, -1.89643711e-01,\n",
       "         -2.74180830e-01,  1.77977294e-01, -4.21729684e-02,\n",
       "          2.18122572e-01, -2.93337941e-01,  3.36798131e-02,\n",
       "         -9.29967761e-02,  5.16880453e-02,  1.16951942e-01,\n",
       "          1.19294286e-01,  2.61485845e-01, -2.68727362e-01,\n",
       "          4.58121002e-02, -1.48013160e-01, -2.72815615e-01,\n",
       "         -3.29086393e-01, -2.85512030e-01, -2.44891644e-02,\n",
       "          2.80800015e-01,  2.34369785e-01, -3.04889381e-02,\n",
       "         -2.40043744e-01,  3.49963933e-01],\n",
       "        [-1.00648016e-01, -3.26048762e-01,  9.31947827e-02,\n",
       "         -1.03004366e-01, -2.77147591e-02, -3.23706597e-01,\n",
       "          3.28655571e-01, -8.52162838e-02,  2.99648076e-01,\n",
       "         -8.24356973e-02,  7.39386380e-02, -5.98309934e-02,\n",
       "          9.89312232e-02,  3.50343913e-01, -2.17383161e-01,\n",
       "         -9.34763253e-02,  1.56819224e-02,  3.25161248e-01,\n",
       "          3.71499956e-02,  1.69152021e-02, -8.58797729e-02,\n",
       "          1.35458291e-01,  2.75279075e-01, -3.01262379e-01,\n",
       "          2.58855850e-01, -1.69740528e-01, -2.79041708e-01,\n",
       "          2.47116238e-01, -1.06078640e-01,  1.00312829e-02,\n",
       "         -1.54305011e-01,  1.22595221e-01],\n",
       "        [-1.27961203e-01,  2.42361218e-01,  1.45634890e-01,\n",
       "          2.24939495e-01,  9.83270705e-02, -2.04346806e-01,\n",
       "         -3.25389922e-01,  1.89513415e-01, -1.67374328e-01,\n",
       "          2.58489758e-01, -2.39026904e-01,  2.73656040e-01,\n",
       "         -2.36793041e-01,  2.41481572e-01,  2.64854133e-02,\n",
       "          1.86087698e-01,  2.73137599e-01, -1.29137039e-02,\n",
       "         -2.87448585e-01,  2.50760764e-01, -1.56605721e-01,\n",
       "          1.36454791e-01,  1.37050927e-01, -3.51707190e-01,\n",
       "          2.00823754e-01,  6.78313971e-02, -3.11406016e-01,\n",
       "          3.39193642e-02,  6.53192699e-02,  1.29678190e-01,\n",
       "         -2.60571361e-01, -1.66845962e-01],\n",
       "        [-1.72782436e-01,  1.55338734e-01,  2.97374725e-01,\n",
       "          2.41755962e-01,  6.26282543e-02,  6.02888428e-02,\n",
       "         -2.21080959e-01,  3.95221412e-01,  3.81051153e-01,\n",
       "         -7.18356669e-02,  2.86778480e-01, -2.61430651e-01,\n",
       "          2.39133060e-01, -1.04558989e-01, -6.00710884e-02,\n",
       "         -1.86030984e-01, -1.40276596e-01, -1.91720277e-01,\n",
       "          8.03416669e-02, -1.95741177e-01,  1.13122091e-01,\n",
       "         -2.69594073e-01, -2.02604011e-01,  1.44159093e-01,\n",
       "          8.26719776e-02, -8.45655203e-02,  2.56844223e-01,\n",
       "          5.11833355e-02,  1.33205742e-01, -1.60040170e-01,\n",
       "          1.94713652e-01, -9.45569873e-02]], dtype=float32),\n",
       " array([-0.00952409, -0.00465113,  0.2428175 , -0.13745134, -0.12781027,\n",
       "        -0.11677336,  0.        ,  0.2661951 , -0.09402439,  0.        ,\n",
       "        -0.1152503 ,  0.        , -0.00621468,  0.        , -0.11016019,\n",
       "        -0.06648097,  0.        ,  0.00683638,  0.2662968 ,  0.        ,\n",
       "        -0.12975356, -0.00704795, -0.0178197 ,  0.20956363,  0.26769352,\n",
       "        -0.03295962, -0.12372574, -0.09163847, -0.11173762, -0.08276475,\n",
       "        -0.10538743, -0.03420794], dtype=float32),\n",
       " array([[-0.06747904,  0.19404659],\n",
       "        [-0.2956107 ,  0.39524993],\n",
       "        [ 0.786972  , -0.7982531 ],\n",
       "        [-0.35283548,  0.10108353],\n",
       "        [-0.38341257,  0.15553361],\n",
       "        [-0.20701063,  0.41814876],\n",
       "        [-0.03560218, -0.03248444],\n",
       "        [ 0.6845704 , -0.5998749 ],\n",
       "        [-0.62173414,  0.5767598 ],\n",
       "        [ 0.03887257,  0.15947214],\n",
       "        [-0.31830987,  0.3548865 ],\n",
       "        [-0.00369877,  0.21047011],\n",
       "        [-0.1894923 ,  0.02872664],\n",
       "        [-0.18129829,  0.14989462],\n",
       "        [-0.5947521 ,  0.29431278],\n",
       "        [-0.6050596 , -0.13869675],\n",
       "        [ 0.22493508, -0.21219356],\n",
       "        [-0.5643524 ,  0.5258737 ],\n",
       "        [ 0.5870054 , -0.57717246],\n",
       "        [-0.05715504, -0.2027711 ],\n",
       "        [-0.31327718,  0.4334752 ],\n",
       "        [-0.28123656,  0.02974078],\n",
       "        [-0.38590702,  0.16544825],\n",
       "        [ 0.70887196, -0.40006799],\n",
       "        [ 0.29316908, -0.47273344],\n",
       "        [-0.261214  , -0.01683127],\n",
       "        [-0.05264592,  0.48264745],\n",
       "        [-0.44654864,  0.5116001 ],\n",
       "        [-0.21818553,  0.53230464],\n",
       "        [-0.3975144 ,  0.59625584],\n",
       "        [-0.58631456, -0.04737614],\n",
       "        [ 0.10661964,  0.18693382]], dtype=float32),\n",
       " array([ 0.18517858, -0.18517856], dtype=float32)]"
      ]
     },
     "execution_count": 81,
     "metadata": {},
     "output_type": "execute_result"
    }
   ],
   "source": [
    "new_model.get_weights()"
   ]
  },
  {
   "cell_type": "code",
   "execution_count": 82,
   "id": "fd1a27f0",
   "metadata": {},
   "outputs": [
    {
     "data": {
      "text/plain": [
       "<keras.optimizers.adam.Adam at 0x7fbe63c2edf0>"
      ]
     },
     "execution_count": 82,
     "metadata": {},
     "output_type": "execute_result"
    }
   ],
   "source": [
    "new_model.optimizer"
   ]
  },
  {
   "cell_type": "code",
   "execution_count": null,
   "id": "2185c656",
   "metadata": {},
   "outputs": [],
   "source": []
  }
 ],
 "metadata": {
  "kernelspec": {
   "display_name": "Python 3 (ipykernel)",
   "language": "python",
   "name": "python3"
  },
  "language_info": {
   "codemirror_mode": {
    "name": "ipython",
    "version": 3
   },
   "file_extension": ".py",
   "mimetype": "text/x-python",
   "name": "python",
   "nbconvert_exporter": "python",
   "pygments_lexer": "ipython3",
   "version": "3.9.16"
  }
 },
 "nbformat": 4,
 "nbformat_minor": 5
}
