{
 "cells": [
  {
   "cell_type": "code",
   "execution_count": 109,
   "id": "2ef35ef4",
   "metadata": {},
   "outputs": [],
   "source": [
    "import numpy as np\n",
    "from sklearn.datasets import make_regression\n",
    "import matplotlib.pyplot as plt"
   ]
  },
  {
   "cell_type": "code",
   "execution_count": 110,
   "id": "88bba4a3",
   "metadata": {},
   "outputs": [
    {
     "data": {
      "text/plain": [
       "<matplotlib.collections.PathCollection at 0x7fe9c2e9b160>"
      ]
     },
     "execution_count": 110,
     "metadata": {},
     "output_type": "execute_result"
    },
    {
     "data": {
      "image/png": "[encoded data removed]",
      "text/plain": [
       "<Figure size 432x288 with 1 Axes>"
      ]
     },
     "metadata": {
      "needs_background": "light"
     },
     "output_type": "display_data"
    }
   ],
   "source": [
    "x,y = make_regression(n_samples=100,n_features=1,noise=10)\n",
    "plt.scatter(x,y)"
   ]
  },
  {
   "cell_type": "code",
   "execution_count": 111,
   "id": "6afd2cf0",
   "metadata": {
    "scrolled": true
   },
   "outputs": [
    {
     "name": "stdout",
     "output_type": "stream",
     "text": [
      "(100, 1)\n",
      "(100, 1)\n"
     ]
    }
   ],
   "source": [
    "print(x.shape)\n",
    "y=y.reshape(y.shape[0],1)\n",
    "print(y.shape)"
   ]
  },
  {
   "cell_type": "code",
   "execution_count": 112,
   "id": "e4eb7550",
   "metadata": {
    "scrolled": true
   },
   "outputs": [
    {
     "data": {
      "text/plain": [
       "array([[-0.8613751 ,  1.        ],\n",
       "       [ 1.05507711,  1.        ],\n",
       "       [-0.65755746,  1.        ],\n",
       "       [ 0.2281836 ,  1.        ],\n",
       "       [ 0.6053838 ,  1.        ],\n",
       "       [ 0.11567742,  1.        ],\n",
       "       [-0.43056589,  1.        ],\n",
       "       [-1.43742834,  1.        ],\n",
       "       [-1.89636179,  1.        ],\n",
       "       [-0.20858276,  1.        ],\n",
       "       [-0.91979282,  1.        ],\n",
       "       [ 0.00766319,  1.        ],\n",
       "       [-0.26782155,  1.        ],\n",
       "       [ 1.41380407,  1.        ],\n",
       "       [-0.02280286,  1.        ],\n",
       "       [ 0.52020158,  1.        ],\n",
       "       [-0.70568835,  1.        ],\n",
       "       [-1.18899606,  1.        ],\n",
       "       [ 0.06090866,  1.        ],\n",
       "       [ 0.5499805 ,  1.        ],\n",
       "       [-0.95942185,  1.        ],\n",
       "       [-0.82019473,  1.        ],\n",
       "       [ 0.14586072,  1.        ],\n",
       "       [-0.56296854,  1.        ],\n",
       "       [-0.70437478,  1.        ],\n",
       "       [ 0.00506963,  1.        ],\n",
       "       [ 0.03827843,  1.        ],\n",
       "       [ 0.92379645,  1.        ],\n",
       "       [-1.73809722,  1.        ],\n",
       "       [ 0.23026245,  1.        ],\n",
       "       [-1.49308034,  1.        ],\n",
       "       [ 0.30194244,  1.        ],\n",
       "       [ 2.08302886,  1.        ],\n",
       "       [ 0.27584845,  1.        ],\n",
       "       [-0.59576659,  1.        ],\n",
       "       [ 1.45497036,  1.        ],\n",
       "       [-1.02718061,  1.        ],\n",
       "       [-0.11757965,  1.        ],\n",
       "       [ 0.20579741,  1.        ],\n",
       "       [-0.96948848,  1.        ],\n",
       "       [-0.65594582,  1.        ],\n",
       "       [ 0.04717001,  1.        ],\n",
       "       [-1.87337156,  1.        ],\n",
       "       [ 0.06415897,  1.        ],\n",
       "       [ 0.13789867,  1.        ],\n",
       "       [-0.57396594,  1.        ],\n",
       "       [ 1.19132425,  1.        ],\n",
       "       [ 0.34084216,  1.        ],\n",
       "       [ 0.45207303,  1.        ],\n",
       "       [-0.44126442,  1.        ],\n",
       "       [-0.64992065,  1.        ],\n",
       "       [ 1.78585061,  1.        ],\n",
       "       [ 0.06957046,  1.        ],\n",
       "       [-0.53570598,  1.        ],\n",
       "       [-1.02933226,  1.        ],\n",
       "       [ 0.12109918,  1.        ],\n",
       "       [ 0.0357574 ,  1.        ],\n",
       "       [ 1.08849732,  1.        ],\n",
       "       [ 0.49155546,  1.        ],\n",
       "       [-0.11580494,  1.        ],\n",
       "       [ 0.33249726,  1.        ],\n",
       "       [ 1.19863737,  1.        ],\n",
       "       [-0.13046417,  1.        ],\n",
       "       [ 2.1570204 ,  1.        ],\n",
       "       [-0.40573867,  1.        ],\n",
       "       [-0.36598108,  1.        ],\n",
       "       [ 0.74016933,  1.        ],\n",
       "       [-0.40412465,  1.        ],\n",
       "       [-0.03445276,  1.        ],\n",
       "       [ 0.14754738,  1.        ],\n",
       "       [ 0.17715414,  1.        ],\n",
       "       [ 0.35877197,  1.        ],\n",
       "       [-0.75980295,  1.        ],\n",
       "       [-2.37423567,  1.        ],\n",
       "       [-0.53771199,  1.        ],\n",
       "       [ 0.09163609,  1.        ],\n",
       "       [ 1.46660176,  1.        ],\n",
       "       [-0.11021908,  1.        ],\n",
       "       [-1.11842529,  1.        ],\n",
       "       [ 0.75349396,  1.        ],\n",
       "       [-0.2678029 ,  1.        ],\n",
       "       [-0.49118852,  1.        ],\n",
       "       [-2.74262297,  1.        ],\n",
       "       [ 0.01616556,  1.        ],\n",
       "       [-1.14369692,  1.        ],\n",
       "       [-0.81235706,  1.        ],\n",
       "       [-0.5048437 ,  1.        ],\n",
       "       [ 0.06452997,  1.        ],\n",
       "       [ 1.15104558,  1.        ],\n",
       "       [ 0.6826529 ,  1.        ],\n",
       "       [ 0.03037386,  1.        ],\n",
       "       [ 0.42329529,  1.        ],\n",
       "       [ 0.23714872,  1.        ],\n",
       "       [ 0.49951892,  1.        ],\n",
       "       [-1.21618667,  1.        ],\n",
       "       [-1.27860844,  1.        ],\n",
       "       [ 0.97069201,  1.        ],\n",
       "       [ 0.78570745,  1.        ],\n",
       "       [-0.80137251,  1.        ],\n",
       "       [-0.48108345,  1.        ]])"
      ]
     },
     "execution_count": 112,
     "metadata": {},
     "output_type": "execute_result"
    }
   ],
   "source": [
    "X = np.hstack((x,np.ones(x.shape)))\n",
    "X"
   ]
  },
  {
   "cell_type": "code",
   "execution_count": 113,
   "id": "63e45e68",
   "metadata": {},
   "outputs": [
    {
     "data": {
      "text/plain": [
       "array([[ 0.72391953],\n",
       "       [-0.08043311]])"
      ]
     },
     "execution_count": 113,
     "metadata": {},
     "output_type": "execute_result"
    }
   ],
   "source": [
    "theta = np.random.randn(2,1)\n",
    "theta"
   ]
  },
  {
   "cell_type": "code",
   "execution_count": 114,
   "id": "a9fc0982",
   "metadata": {},
   "outputs": [
    {
     "data": {
      "text/plain": [
       "[<matplotlib.lines.Line2D at 0x7fe9c2f966a0>]"
      ]
     },
     "execution_count": 114,
     "metadata": {},
     "output_type": "execute_result"
    },
    {
     "data": {
      "image/png": "[encoded data removed]",
      "text/plain": [
       "<Figure size 432x288 with 1 Axes>"
      ]
     },
     "metadata": {
      "needs_background": "light"
     },
     "output_type": "display_data"
    }
   ],
   "source": [
    "def model(X,theta):\n",
    "    return X.dot(theta)\n",
    "plt.scatter(x,y)\n",
    "plt.plot(x,model(X,theta),c='r')"
   ]
  },
  {
   "cell_type": "code",
   "execution_count": 115,
   "id": "d0a6f33d",
   "metadata": {},
   "outputs": [
    {
     "data": {
      "text/plain": [
       "744467.9240688649"
      ]
     },
     "execution_count": 115,
     "metadata": {},
     "output_type": "execute_result"
    }
   ],
   "source": [
    "def cost_function(X,y,theta):\n",
    "    m=len(y)\n",
    "    return 1/2*m*np.sum((model(X,theta)-y)**2)\n",
    "cost_function(X,y,theta)"
   ]
  },
  {
   "cell_type": "code",
   "execution_count": 116,
   "id": "d44bed9c",
   "metadata": {},
   "outputs": [],
   "source": [
    "def grad(X,y,theta):\n",
    "    m=len(y)\n",
    "    return 1/m*X.T.dot(model(X,theta)-y)"
   ]
  },
  {
   "cell_type": "code",
   "execution_count": 106,
   "id": "93c56cc0",
   "metadata": {},
   "outputs": [],
   "source": [
    "def gradient_descent(X,y,theta,learning_rate,n_iterations):\n",
    "    cost_history = np.zeros(n_iterations)\n",
    "    for i in range (0,n_iterations):\n",
    "        theta = theta -learning_rate * grad(X,y,theta)\n",
    "        cost_history[i]=cost_function(X,y,theta)\n",
    "    return theta,cost_history\n"
   ]
  },
  {
   "cell_type": "code",
   "execution_count": 107,
   "id": "2b425280",
   "metadata": {},
   "outputs": [
    {
     "data": {
      "text/plain": [
       "array([[62.27969827],\n",
       "       [ 4.19788919]])"
      ]
     },
     "execution_count": 107,
     "metadata": {},
     "output_type": "execute_result"
    }
   ],
   "source": [
    "theta_final, cost_history= gradient_descent(X,y,theta,learning_rate=0.001,n_iterations=10000)\n",
    "theta_final"
   ]
  },
  {
   "cell_type": "code",
   "execution_count": 108,
   "id": "7553a386",
   "metadata": {},
   "outputs": [
    {
     "data": {
      "text/plain": [
       "[<matplotlib.lines.Line2D at 0x7fe9c2d02af0>]"
      ]
     },
     "execution_count": 108,
     "metadata": {},
     "output_type": "execute_result"
    },
    {
     "data": {
      "image/png": "[encoded data removed]",
      "text/plain": [
       "<Figure size 432x288 with 1 Axes>"
      ]
     },
     "metadata": {
      "needs_background": "light"
     },
     "output_type": "display_data"
    }
   ],
   "source": [
    "predictions = model (X,theta_final)\n",
    "plt.scatter(x,y)\n",
    "plt.plot(x,predictions,c='r')"
   ]
  },
  {
   "cell_type": "code",
   "execution_count": 94,
   "id": "a2e9563a",
   "metadata": {},
   "outputs": [
    {
     "data": {
      "text/plain": [
       "[<matplotlib.lines.Line2D at 0x7fe9c286cc70>]"
      ]
     },
     "execution_count": 94,
     "metadata": {},
     "output_type": "execute_result"
    },
    {
     "data": {
      "image/png": "[encoded data removed]",
      "text/plain": [
       "<Figure size 432x288 with 1 Axes>"
      ]
     },
     "metadata": {
      "needs_background": "light"
     },
     "output_type": "display_data"
    }
   ],
   "source": [
    "plt.plot(range(1000),cost_history)"
   ]
  },
  {
   "cell_type": "code",
   "execution_count": 95,
   "id": "4e7fd759",
   "metadata": {},
   "outputs": [],
   "source": [
    "def coef_determination(y,pred):\n",
    "    u =((y-pred)**2).sum()\n",
    "    v = ((y-y.mean())**2).sum()\n",
    "    return 1 - u/v"
   ]
  },
  {
   "cell_type": "code",
   "execution_count": 96,
   "id": "1e48e8e7",
   "metadata": {},
   "outputs": [
    {
     "data": {
      "text/plain": [
       "0.013253920643001793"
      ]
     },
     "execution_count": 96,
     "metadata": {},
     "output_type": "execute_result"
    }
   ],
   "source": [
    "coef_determination(y,predictions)"
   ]
  },
  {
   "cell_type": "code",
   "execution_count": null,
   "id": "b8eeab4f",
   "metadata": {},
   "outputs": [],
   "source": []
  }
 ],
 "metadata": {
  "kernelspec": {
   "display_name": "Python 3 (ipykernel)",
   "language": "python",
   "name": "python3"
  },
  "language_info": {
   "codemirror_mode": {
    "name": "ipython",
    "version": 3
   },
   "file_extension": ".py",
   "mimetype": "text/x-python",
   "name": "python",
   "nbconvert_exporter": "python",
   "pygments_lexer": "ipython3",
   "version": "3.9.7"
  }
 },
 "nbformat": 4,
 "nbformat_minor": 5
}
