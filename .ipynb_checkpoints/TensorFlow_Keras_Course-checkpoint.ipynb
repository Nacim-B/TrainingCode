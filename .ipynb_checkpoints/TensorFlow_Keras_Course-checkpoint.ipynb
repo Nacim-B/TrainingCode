{
 "cells": [
  {
   "cell_type": "code",
   "execution_count": 13,
   "id": "99597d48",
   "metadata": {},
   "outputs": [],
   "source": [
    "import numpy as np\n",
    "from random import randint\n",
    "from sklearn.utils import shuffle\n",
    "from sklearn.preprocessing import MinMaxScaler"
   ]
  },
  {
   "cell_type": "code",
   "execution_count": 14,
   "id": "f74f47d5",
   "metadata": {},
   "outputs": [],
   "source": [
    "train_labels = []\n",
    "train_samples = []"
   ]
  },
  {
   "cell_type": "markdown",
   "id": "ac35e966",
   "metadata": {},
   "source": [
    "2100 participants tested\n",
    "50% over 65 years old\n",
    "50% under 65 years old\n",
    "\n",
    "95% of >= 65 had side effects to the drug\n",
    "95% of < 65 had not side effect to the drug"
   ]
  },
  {
   "cell_type": "code",
   "execution_count": 15,
   "id": "73d8a715",
   "metadata": {},
   "outputs": [],
   "source": [
    "for i in range(50):\n",
    "    random_younger = randint(13,64)\n",
    "    train_samples.append(random_younger)\n",
    "    train_labels.append(1)\n",
    "    \n",
    "    random_older = randint(65,100)\n",
    "    train_samples.append(random_older)\n",
    "    train_labels.append(0)\n",
    "\n",
    "for i in range(1000):\n",
    "    random_younger = randint(13,64)\n",
    "    train_samples.append(random_younger)\n",
    "    train_labels.append(0)\n",
    "    \n",
    "    random_older = randint(65,100)\n",
    "    train_samples.append(random_older)\n",
    "    train_labels.append(1)"
   ]
  },
  {
   "cell_type": "code",
   "execution_count": 16,
   "id": "0d2cdfec",
   "metadata": {},
   "outputs": [],
   "source": [
    "train_labels = np.array(train_labels)\n",
    "train_samples = np.array(train_samples)\n",
    "train_labels, train_samples = shuffle(train_labels, train_samples)"
   ]
  },
  {
   "cell_type": "code",
   "execution_count": 17,
   "id": "a0fd0e66",
   "metadata": {},
   "outputs": [],
   "source": [
    "scaler = MinMaxScaler(feature_range=(0,1))\n",
    "scaled_train_samples = scaler.fit_transform(train_samples.reshape(-1,1))"
   ]
  },
  {
   "cell_type": "code",
   "execution_count": 18,
   "id": "eea8eb48",
   "metadata": {},
   "outputs": [
    {
     "data": {
      "text/plain": [
       "array([[0.01149425],\n",
       "       [0.33333333],\n",
       "       [0.96551724],\n",
       "       ...,\n",
       "       [0.73563218],\n",
       "       [0.34482759],\n",
       "       [0.26436782]])"
      ]
     },
     "execution_count": 18,
     "metadata": {},
     "output_type": "execute_result"
    }
   ],
   "source": [
    "scaled_train_samples"
   ]
  },
  {
   "cell_type": "code",
   "execution_count": 19,
   "id": "8dd6f7ce",
   "metadata": {},
   "outputs": [
    {
     "data": {
      "text/plain": [
       "array([0, 0, 1, ..., 1, 0, 0])"
      ]
     },
     "execution_count": 19,
     "metadata": {},
     "output_type": "execute_result"
    }
   ],
   "source": [
    "train_labels"
   ]
  },
  {
   "cell_type": "code",
   "execution_count": 22,
   "id": "3e8ddced",
   "metadata": {},
   "outputs": [],
   "source": [
    "import tensorflow as tf\n",
    "from tensorflow import keras\n",
    "from tensorflow.keras.models import Sequential\n",
    "from tensorflow.keras.layers import Activation, Dense\n",
    "from tensorflow.keras.optimizers import Adam\n",
    "from tensorflow.keras.metrics import categorical_crossentropy"
   ]
  },
  {
   "cell_type": "code",
   "execution_count": 23,
   "id": "c8b34718",
   "metadata": {},
   "outputs": [],
   "source": [
    "model = Sequential ([\n",
    "    Dense(units=16, input_shape=(1,), activation='relu'),\n",
    "    Dense(units=32, activation='relu'),\n",
    "    Dense(units=2, activation='softmax')\n",
    "])"
   ]
  },
  {
   "cell_type": "code",
   "execution_count": 24,
   "id": "9d97713c",
   "metadata": {},
   "outputs": [
    {
     "name": "stdout",
     "output_type": "stream",
     "text": [
      "Model: \"sequential\"\n",
      "_________________________________________________________________\n",
      " Layer (type)                Output Shape              Param #   \n",
      "=================================================================\n",
      " dense (Dense)               (None, 16)                32        \n",
      "                                                                 \n",
      " dense_1 (Dense)             (None, 32)                544       \n",
      "                                                                 \n",
      " dense_2 (Dense)             (None, 2)                 66        \n",
      "                                                                 \n",
      "=================================================================\n",
      "Total params: 642\n",
      "Trainable params: 642\n",
      "Non-trainable params: 0\n",
      "_________________________________________________________________\n"
     ]
    }
   ],
   "source": [
    "model.summary()"
   ]
  },
  {
   "cell_type": "code",
   "execution_count": 25,
   "id": "8ffa6598",
   "metadata": {},
   "outputs": [],
   "source": [
    "model.compile(optimizer=Adam(learning_rate=0.0001), loss='sparse_categorical_crossentropy', metrics=['accuracy'])"
   ]
  },
  {
   "cell_type": "code",
   "execution_count": 26,
   "id": "5f26147d",
   "metadata": {},
   "outputs": [
    {
     "name": "stdout",
     "output_type": "stream",
     "text": [
      "Epoch 1/30\n",
      "210/210 - 4s - loss: 0.7128 - accuracy: 0.4962 - 4s/epoch - 21ms/step\n",
      "Epoch 2/30\n",
      "210/210 - 0s - loss: 0.6767 - accuracy: 0.6543 - 463ms/epoch - 2ms/step\n",
      "Epoch 3/30\n",
      "210/210 - 0s - loss: 0.6268 - accuracy: 0.8095 - 467ms/epoch - 2ms/step\n",
      "Epoch 4/30\n",
      "210/210 - 1s - loss: 0.5806 - accuracy: 0.8338 - 672ms/epoch - 3ms/step\n",
      "Epoch 5/30\n",
      "210/210 - 1s - loss: 0.5365 - accuracy: 0.8471 - 765ms/epoch - 4ms/step\n",
      "Epoch 6/30\n",
      "210/210 - 0s - loss: 0.4962 - accuracy: 0.8681 - 420ms/epoch - 2ms/step\n",
      "Epoch 7/30\n",
      "210/210 - 0s - loss: 0.4590 - accuracy: 0.8733 - 421ms/epoch - 2ms/step\n",
      "Epoch 8/30\n",
      "210/210 - 0s - loss: 0.4254 - accuracy: 0.8814 - 447ms/epoch - 2ms/step\n",
      "Epoch 9/30\n",
      "210/210 - 0s - loss: 0.3962 - accuracy: 0.8876 - 435ms/epoch - 2ms/step\n",
      "Epoch 10/30\n",
      "210/210 - 0s - loss: 0.3709 - accuracy: 0.8933 - 439ms/epoch - 2ms/step\n",
      "Epoch 11/30\n",
      "210/210 - 0s - loss: 0.3506 - accuracy: 0.9029 - 474ms/epoch - 2ms/step\n",
      "Epoch 12/30\n",
      "210/210 - 0s - loss: 0.3341 - accuracy: 0.9090 - 451ms/epoch - 2ms/step\n",
      "Epoch 13/30\n",
      "210/210 - 1s - loss: 0.3206 - accuracy: 0.9081 - 567ms/epoch - 3ms/step\n",
      "Epoch 14/30\n",
      "210/210 - 1s - loss: 0.3093 - accuracy: 0.9138 - 726ms/epoch - 3ms/step\n",
      "Epoch 15/30\n",
      "210/210 - 1s - loss: 0.3002 - accuracy: 0.9162 - 559ms/epoch - 3ms/step\n",
      "Epoch 16/30\n",
      "210/210 - 1s - loss: 0.2925 - accuracy: 0.9229 - 687ms/epoch - 3ms/step\n",
      "Epoch 17/30\n",
      "210/210 - 0s - loss: 0.2865 - accuracy: 0.9229 - 418ms/epoch - 2ms/step\n",
      "Epoch 18/30\n",
      "210/210 - 0s - loss: 0.2814 - accuracy: 0.9257 - 473ms/epoch - 2ms/step\n",
      "Epoch 19/30\n",
      "210/210 - 0s - loss: 0.2770 - accuracy: 0.9310 - 418ms/epoch - 2ms/step\n",
      "Epoch 20/30\n",
      "210/210 - 0s - loss: 0.2734 - accuracy: 0.9295 - 430ms/epoch - 2ms/step\n",
      "Epoch 21/30\n",
      "210/210 - 0s - loss: 0.2702 - accuracy: 0.9329 - 451ms/epoch - 2ms/step\n",
      "Epoch 22/30\n",
      "210/210 - 0s - loss: 0.2676 - accuracy: 0.9348 - 446ms/epoch - 2ms/step\n",
      "Epoch 23/30\n",
      "210/210 - 0s - loss: 0.2653 - accuracy: 0.9295 - 430ms/epoch - 2ms/step\n",
      "Epoch 24/30\n",
      "210/210 - 0s - loss: 0.2633 - accuracy: 0.9343 - 446ms/epoch - 2ms/step\n",
      "Epoch 25/30\n",
      "210/210 - 0s - loss: 0.2617 - accuracy: 0.9329 - 437ms/epoch - 2ms/step\n",
      "Epoch 26/30\n",
      "210/210 - 0s - loss: 0.2603 - accuracy: 0.9343 - 460ms/epoch - 2ms/step\n",
      "Epoch 27/30\n",
      "210/210 - 0s - loss: 0.2588 - accuracy: 0.9305 - 444ms/epoch - 2ms/step\n",
      "Epoch 28/30\n",
      "210/210 - 0s - loss: 0.2577 - accuracy: 0.9348 - 441ms/epoch - 2ms/step\n",
      "Epoch 29/30\n",
      "210/210 - 0s - loss: 0.2566 - accuracy: 0.9348 - 438ms/epoch - 2ms/step\n",
      "Epoch 30/30\n",
      "210/210 - 0s - loss: 0.2554 - accuracy: 0.9348 - 444ms/epoch - 2ms/step\n"
     ]
    },
    {
     "data": {
      "text/plain": [
       "<keras.callbacks.History at 0x7fbe637dd370>"
      ]
     },
     "execution_count": 26,
     "metadata": {},
     "output_type": "execute_result"
    }
   ],
   "source": [
    "model.fit(scaled_train_samples, train_labels, batch_size=10, epochs=30, shuffle=True, verbose=2)"
   ]
  },
  {
   "cell_type": "code",
   "execution_count": null,
   "id": "f2916f34",
   "metadata": {},
   "outputs": [],
   "source": []
  }
 ],
 "metadata": {
  "kernelspec": {
   "display_name": "Python 3 (ipykernel)",
   "language": "python",
   "name": "python3"
  },
  "language_info": {
   "codemirror_mode": {
    "name": "ipython",
    "version": 3
   },
   "file_extension": ".py",
   "mimetype": "text/x-python",
   "name": "python",
   "nbconvert_exporter": "python",
   "pygments_lexer": "ipython3",
   "version": "3.9.16"
  }
 },
 "nbformat": 4,
 "nbformat_minor": 5
}
