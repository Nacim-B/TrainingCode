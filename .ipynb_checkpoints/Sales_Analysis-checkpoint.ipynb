{
 "cells": [
  {
   "cell_type": "code",
   "execution_count": 4,
   "id": "f0bff0bf",
   "metadata": {},
   "outputs": [],
   "source": [
    "import pandas as pd\n",
    "import os"
   ]
  },
  {
   "cell_type": "code",
   "execution_count": 11,
   "id": "cc0866a4",
   "metadata": {},
   "outputs": [
    {
     "data": {
      "text/plain": [
       "(18383, 6)"
      ]
     },
     "execution_count": 11,
     "metadata": {},
     "output_type": "execute_result"
    }
   ],
   "source": [
    "df = pd.read_csv('data/Sales_Data/Sales_April_2019.csv')\n",
    "df.shape"
   ]
  },
  {
   "cell_type": "code",
   "execution_count": 12,
   "id": "66bf7f78",
   "metadata": {},
   "outputs": [],
   "source": [
    "files  = [file for file in os.listdir('data/Sales_Data/')]"
   ]
  },
  {
   "cell_type": "code",
   "execution_count": 7,
   "id": "cea1ac5a",
   "metadata": {},
   "outputs": [],
   "source": [
    "data = pd.DataFrame()"
   ]
  },
  {
   "cell_type": "code",
   "execution_count": 8,
   "id": "43cd041b",
   "metadata": {},
   "outputs": [],
   "source": [
    "for f in files:\n",
    "    file = pd.read_csv('data/Sales_Data/'+f)\n",
    "    data = pd.concat([data, file])"
   ]
  },
  {
   "cell_type": "code",
   "execution_count": 9,
   "id": "47758b13",
   "metadata": {},
   "outputs": [
    {
     "data": {
      "text/plain": [
       "(186850, 6)"
      ]
     },
     "execution_count": 9,
     "metadata": {},
     "output_type": "execute_result"
    }
   ],
   "source": [
    "data.shape"
   ]
  },
  {
   "cell_type": "code",
   "execution_count": 19,
   "id": "95a99fd8",
   "metadata": {},
   "outputs": [],
   "source": [
    "data['month'] = data['Order Date'].str[0:2]"
   ]
  },
  {
   "cell_type": "code",
   "execution_count": 21,
   "id": "85bbaf7b",
   "metadata": {},
   "outputs": [
    {
     "data": {
      "text/html": [
       "<div>\n",
       "<style scoped>\n",
       "    .dataframe tbody tr th:only-of-type {\n",
       "        vertical-align: middle;\n",
       "    }\n",
       "\n",
       "    .dataframe tbody tr th {\n",
       "        vertical-align: top;\n",
       "    }\n",
       "\n",
       "    .dataframe thead th {\n",
       "        text-align: right;\n",
       "    }\n",
       "</style>\n",
       "<table border=\"1\" class=\"dataframe\">\n",
       "  <thead>\n",
       "    <tr style=\"text-align: right;\">\n",
       "      <th></th>\n",
       "      <th>Order ID</th>\n",
       "      <th>Product</th>\n",
       "      <th>Quantity Ordered</th>\n",
       "      <th>Price Each</th>\n",
       "      <th>Order Date</th>\n",
       "      <th>Purchase Address</th>\n",
       "      <th>month</th>\n",
       "    </tr>\n",
       "  </thead>\n",
       "  <tbody>\n",
       "    <tr>\n",
       "      <th>0</th>\n",
       "      <td>295665</td>\n",
       "      <td>Macbook Pro Laptop</td>\n",
       "      <td>1</td>\n",
       "      <td>1700</td>\n",
       "      <td>12/30/19 00:01</td>\n",
       "      <td>136 Church St, New York City, NY 10001</td>\n",
       "      <td>12</td>\n",
       "    </tr>\n",
       "    <tr>\n",
       "      <th>1</th>\n",
       "      <td>295666</td>\n",
       "      <td>LG Washing Machine</td>\n",
       "      <td>1</td>\n",
       "      <td>600.0</td>\n",
       "      <td>12/29/19 07:03</td>\n",
       "      <td>562 2nd St, New York City, NY 10001</td>\n",
       "      <td>12</td>\n",
       "    </tr>\n",
       "    <tr>\n",
       "      <th>2</th>\n",
       "      <td>295667</td>\n",
       "      <td>USB-C Charging Cable</td>\n",
       "      <td>1</td>\n",
       "      <td>11.95</td>\n",
       "      <td>12/12/19 18:21</td>\n",
       "      <td>277 Main St, New York City, NY 10001</td>\n",
       "      <td>12</td>\n",
       "    </tr>\n",
       "    <tr>\n",
       "      <th>3</th>\n",
       "      <td>295668</td>\n",
       "      <td>27in FHD Monitor</td>\n",
       "      <td>1</td>\n",
       "      <td>149.99</td>\n",
       "      <td>12/22/19 15:13</td>\n",
       "      <td>410 6th St, San Francisco, CA 94016</td>\n",
       "      <td>12</td>\n",
       "    </tr>\n",
       "    <tr>\n",
       "      <th>4</th>\n",
       "      <td>295669</td>\n",
       "      <td>USB-C Charging Cable</td>\n",
       "      <td>1</td>\n",
       "      <td>11.95</td>\n",
       "      <td>12/18/19 12:38</td>\n",
       "      <td>43 Hill St, Atlanta, GA 30301</td>\n",
       "      <td>12</td>\n",
       "    </tr>\n",
       "  </tbody>\n",
       "</table>\n",
       "</div>"
      ],
      "text/plain": [
       "  Order ID               Product Quantity Ordered Price Each      Order Date  \\\n",
       "0   295665    Macbook Pro Laptop                1       1700  12/30/19 00:01   \n",
       "1   295666    LG Washing Machine                1      600.0  12/29/19 07:03   \n",
       "2   295667  USB-C Charging Cable                1      11.95  12/12/19 18:21   \n",
       "3   295668      27in FHD Monitor                1     149.99  12/22/19 15:13   \n",
       "4   295669  USB-C Charging Cable                1      11.95  12/18/19 12:38   \n",
       "\n",
       "                         Purchase Address month  \n",
       "0  136 Church St, New York City, NY 10001    12  \n",
       "1     562 2nd St, New York City, NY 10001    12  \n",
       "2    277 Main St, New York City, NY 10001    12  \n",
       "3     410 6th St, San Francisco, CA 94016    12  \n",
       "4           43 Hill St, Atlanta, GA 30301    12  "
      ]
     },
     "execution_count": 21,
     "metadata": {},
     "output_type": "execute_result"
    }
   ],
   "source": [
    "data.head()"
   ]
  },
  {
   "cell_type": "code",
   "execution_count": 25,
   "id": "f0af6c5f",
   "metadata": {},
   "outputs": [
    {
     "name": "stdout",
     "output_type": "stream",
     "text": [
      "<class 'pandas.core.frame.DataFrame'>\n",
      "Int64Index: 545 entries, 264 to 13352\n",
      "Data columns (total 7 columns):\n",
      " #   Column            Non-Null Count  Dtype \n",
      "---  ------            --------------  ----- \n",
      " 0   Order ID          0 non-null      object\n",
      " 1   Product           0 non-null      object\n",
      " 2   Quantity Ordered  0 non-null      object\n",
      " 3   Price Each        0 non-null      object\n",
      " 4   Order Date        0 non-null      object\n",
      " 5   Purchase Address  0 non-null      object\n",
      " 6   month             0 non-null      object\n",
      "dtypes: object(7)\n",
      "memory usage: 34.1+ KB\n"
     ]
    }
   ],
   "source": [
    "nan_df = data[data.isna().any(axis=1)]\n",
    "nan_df.info()"
   ]
  },
  {
   "cell_type": "code",
   "execution_count": 26,
   "id": "1764da30",
   "metadata": {},
   "outputs": [],
   "source": [
    "data = data.dropna()"
   ]
  },
  {
   "cell_type": "code",
   "execution_count": 29,
   "id": "c598a074",
   "metadata": {},
   "outputs": [
    {
     "data": {
      "text/plain": [
       "(186305, 7)"
      ]
     },
     "execution_count": 29,
     "metadata": {},
     "output_type": "execute_result"
    }
   ],
   "source": [
    "data.shape"
   ]
  },
  {
   "cell_type": "code",
   "execution_count": 36,
   "id": "bf8f25e5",
   "metadata": {},
   "outputs": [],
   "source": [
    "data = data[data['month'].str[0:2] != 'Or']"
   ]
  },
  {
   "cell_type": "code",
   "execution_count": 37,
   "id": "0b34c2fd",
   "metadata": {},
   "outputs": [
    {
     "data": {
      "text/plain": [
       "0        12\n",
       "1        12\n",
       "2        12\n",
       "3        12\n",
       "4        12\n",
       "         ..\n",
       "13617     6\n",
       "13618     6\n",
       "13619     6\n",
       "13620     6\n",
       "13621     6\n",
       "Name: month, Length: 185950, dtype: int64"
      ]
     },
     "execution_count": 37,
     "metadata": {},
     "output_type": "execute_result"
    }
   ],
   "source": [
    "data['month'].astype('int')"
   ]
  },
  {
   "cell_type": "code",
   "execution_count": 39,
   "id": "20cb0de8",
   "metadata": {},
   "outputs": [
    {
     "name": "stderr",
     "output_type": "stream",
     "text": [
      "/var/folders/f7/1t0gd_nj48d85_3rv7fqxdbh0000gn/T/ipykernel_79815/469592863.py:1: SettingWithCopyWarning: \n",
      "A value is trying to be set on a copy of a slice from a DataFrame.\n",
      "Try using .loc[row_indexer,col_indexer] = value instead\n",
      "\n",
      "See the caveats in the documentation: https://pandas.pydata.org/pandas-docs/stable/user_guide/indexing.html#returning-a-view-versus-a-copy\n",
      "  data['Quantity Ordered'] = pd.to_numeric(data['Quantity Ordered'])\n"
     ]
    }
   ],
   "source": [
    "data['Quantity Ordered'] = pd.to_numeric(data['Quantity Ordered'])"
   ]
  },
  {
   "cell_type": "code",
   "execution_count": 40,
   "id": "186b5bd9",
   "metadata": {},
   "outputs": [
    {
     "name": "stderr",
     "output_type": "stream",
     "text": [
      "/var/folders/f7/1t0gd_nj48d85_3rv7fqxdbh0000gn/T/ipykernel_79815/2423482382.py:1: SettingWithCopyWarning: \n",
      "A value is trying to be set on a copy of a slice from a DataFrame.\n",
      "Try using .loc[row_indexer,col_indexer] = value instead\n",
      "\n",
      "See the caveats in the documentation: https://pandas.pydata.org/pandas-docs/stable/user_guide/indexing.html#returning-a-view-versus-a-copy\n",
      "  data['Price Each'] = pd.to_numeric(data['Price Each'])\n"
     ]
    }
   ],
   "source": [
    "data['Price Each'] = pd.to_numeric(data['Price Each'])"
   ]
  },
  {
   "cell_type": "code",
   "execution_count": 41,
   "id": "f299f8c4",
   "metadata": {},
   "outputs": [
    {
     "name": "stderr",
     "output_type": "stream",
     "text": [
      "/var/folders/f7/1t0gd_nj48d85_3rv7fqxdbh0000gn/T/ipykernel_79815/958814425.py:1: SettingWithCopyWarning: \n",
      "A value is trying to be set on a copy of a slice from a DataFrame.\n",
      "Try using .loc[row_indexer,col_indexer] = value instead\n",
      "\n",
      "See the caveats in the documentation: https://pandas.pydata.org/pandas-docs/stable/user_guide/indexing.html#returning-a-view-versus-a-copy\n",
      "  data['Sales'] = data['Price Each'] * data['Quantity Ordered']\n"
     ]
    }
   ],
   "source": [
    "data['Sales'] = data['Price Each'] * data['Quantity Ordered']"
   ]
  },
  {
   "cell_type": "code",
   "execution_count": 55,
   "id": "a1737e56",
   "metadata": {},
   "outputs": [],
   "source": [
    "results = data['Sales'].groupby(data['month']).sum()"
   ]
  },
  {
   "cell_type": "code",
   "execution_count": 56,
   "id": "41f47c06",
   "metadata": {},
   "outputs": [],
   "source": [
    "import seaborn as sns"
   ]
  },
  {
   "cell_type": "code",
   "execution_count": 57,
   "id": "5c353b36",
   "metadata": {},
   "outputs": [],
   "source": [
    "import matplotlib.pyplot as plt"
   ]
  },
  {
   "cell_type": "code",
   "execution_count": 58,
   "id": "0b5aa9d5",
   "metadata": {},
   "outputs": [
    {
     "data": {
      "text/plain": [
       "<BarContainer object of 12 artists>"
      ]
     },
     "execution_count": 58,
     "metadata": {},
     "output_type": "execute_result"
    },
    {
     "data": {
      "image/png": "[encoded data removed]",
      "text/plain": [
       "<Figure size 640x480 with 1 Axes>"
      ]
     },
     "metadata": {},
     "output_type": "display_data"
    }
   ],
   "source": [
    "months = range(1,13)\n",
    "\n",
    "plt.bar(months, results)"
   ]
  },
  {
   "cell_type": "code",
   "execution_count": 59,
   "id": "cdf2c28b",
   "metadata": {},
   "outputs": [
    {
     "data": {
      "text/plain": [
       "193 Forest St, San Francisco, CA 94016    9\n",
       "279 Sunset St, San Francisco, CA 94016    8\n",
       "223 Elm St, Los Angeles, CA 90001         8\n",
       "716 5th St, San Francisco, CA 94016       7\n",
       "550 Cherry St, San Francisco, CA 94016    7\n",
       "                                         ..\n",
       "339 Forest St, San Francisco, CA 94016    1\n",
       "344 2nd St, Austin, TX 73301              1\n",
       "75 Lincoln St, San Francisco, CA 94016    1\n",
       "675 Cherry St, Atlanta, GA 30301          1\n",
       "209 11th St, Atlanta, GA 30301            1\n",
       "Name: Purchase Address, Length: 140787, dtype: int64"
      ]
     },
     "execution_count": 59,
     "metadata": {},
     "output_type": "execute_result"
    }
   ],
   "source": [
    "data['Purchase Address'].value_counts()"
   ]
  },
  {
   "cell_type": "code",
   "execution_count": null,
   "id": "0ca790ac",
   "metadata": {},
   "outputs": [],
   "source": []
  }
 ],
 "metadata": {
  "kernelspec": {
   "display_name": "Python 3 (ipykernel)",
   "language": "python",
   "name": "python3"
  },
  "language_info": {
   "codemirror_mode": {
    "name": "ipython",
    "version": 3
   },
   "file_extension": ".py",
   "mimetype": "text/x-python",
   "name": "python",
   "nbconvert_exporter": "python",
   "pygments_lexer": "ipython3",
   "version": "3.9.16"
  }
 },
 "nbformat": 4,
 "nbformat_minor": 5
}
