{
 "cells": [
  {
   "cell_type": "code",
   "execution_count": 1,
   "id": "8068519c",
   "metadata": {},
   "outputs": [],
   "source": [
    "import os\n",
    "import io\n",
    "from PIL import Image\n",
    "import time\n",
    "from selenium import webdriver\n",
    "from webdriver_manager.chrome import ChromeDriverManager\n",
    "import requests\n",
    "from selenium.webdriver.common.by import By"
   ]
  },
  {
   "cell_type": "code",
   "execution_count": 9,
   "id": "27ddd67a",
   "metadata": {},
   "outputs": [],
   "source": [
    "players = ['Larry_Bird']\n",
    "nbr_imgs = 5"
   ]
  },
  {
   "cell_type": "code",
   "execution_count": 10,
   "id": "31946e17",
   "metadata": {},
   "outputs": [],
   "source": [
    "IMAGES_PATH = os.path.join('data', 'dream_team')"
   ]
  },
  {
   "cell_type": "code",
   "execution_count": 11,
   "id": "499645ec",
   "metadata": {},
   "outputs": [],
   "source": [
    "wd = webdriver.Chrome()"
   ]
  },
  {
   "cell_type": "code",
   "execution_count": 5,
   "id": "d349e52e",
   "metadata": {},
   "outputs": [],
   "source": [
    "def download_image(download_path, url, file_name):\n",
    "    try:\n",
    "        image_content = requests.get(url).content\n",
    "        image_file = io.BytesIO(image_content)\n",
    "        image = Image.open(image_file)\n",
    "        file_path = download_path + \"/\" + file_name \n",
    "        \n",
    "        with open(file_path, 'wb') as f:\n",
    "            image.save(f, 'JPEG')\n",
    "    \n",
    "    except Exception as e:\n",
    "        print('FAILED -', e)"
   ]
  },
  {
   "cell_type": "code",
   "execution_count": 6,
   "id": "1152c8d7",
   "metadata": {},
   "outputs": [],
   "source": [
    "def get_images_from_google_images(wd, delay, max_images, player):\n",
    "    def scroll_down(wd):\n",
    "        wd.execute_script('window.scrollTo(0, document.body.scrollHeight);')\n",
    "        time.sleep(delay)\n",
    "    url = f\"https://www.google.com/search?q={player}&sca_esv=557430156&tbm=isch&source=lnms&sa=X&ved=2ahUKEwj_lvuHjuGAAxWiVKQEHRmrDQwQ_AUoAXoECAMQAw&biw=1280&bih=602&dpr=1\"\n",
    "    wd.get(url)\n",
    "    \n",
    "    image_urls = set()\n",
    "    \n",
    "    while len(image_urls) < max_images:\n",
    "        scroll_down(wd)\n",
    "        \n",
    "        thumbnails = wd.find_elements(By.CLASS_NAME ,\"Q4LuWd\")\n",
    "        \n",
    "        for img in thumbnails[len(image_urls): max_images]:\n",
    "            try:\n",
    "                img.click()\n",
    "                time.sleep(delay)\n",
    "            except:\n",
    "                continue\n",
    "                \n",
    "            images = wd.find_elements(By.CLASS_NAME,\"iPVvYb\")\n",
    "            \n",
    "            for image in images :\n",
    "                if image.get_attribute('src') and 'http' in image.get_attribute('src'):\n",
    "                    image_urls.add(image.get_attribute('src'))\n",
    "                           \n",
    "    return image_urls \n",
    "                            \n",
    "    "
   ]
  },
  {
   "cell_type": "code",
   "execution_count": 7,
   "id": "3759836a",
   "metadata": {},
   "outputs": [],
   "source": [
    "def main():\n",
    "    for player in players:\n",
    "    \n",
    "        if not os.path.exists(IMAGES_PATH):\n",
    "            !mkdir -p {IMAGES_PATH}\n",
    "\n",
    "        path = os.path.join(IMAGES_PATH, player)\n",
    "\n",
    "        if not os.path.exists(path):\n",
    "            !mkdir {path}\n",
    "\n",
    "        urls = get_images_from_google_images(wd, 2, nbr_imgs, player)\n",
    "        for i, url in enumerate(urls):\n",
    "                download_image(path, url, player + str(i) + \".jpeg\" )\n",
    "    wd.quit()"
   ]
  },
  {
   "cell_type": "code",
   "execution_count": 12,
   "id": "2f51d642",
   "metadata": {
    "scrolled": true
   },
   "outputs": [],
   "source": [
    "main()"
   ]
  },
  {
   "cell_type": "code",
   "execution_count": null,
   "id": "ab1e6cf3",
   "metadata": {},
   "outputs": [],
   "source": []
  }
 ],
 "metadata": {
  "kernelspec": {
   "display_name": "Python 3 (ipykernel)",
   "language": "python",
   "name": "python3"
  },
  "language_info": {
   "codemirror_mode": {
    "name": "ipython",
    "version": 3
   },
   "file_extension": ".py",
   "mimetype": "text/x-python",
   "name": "python",
   "nbconvert_exporter": "python",
   "pygments_lexer": "ipython3",
   "version": "3.9.16"
  }
 },
 "nbformat": 4,
 "nbformat_minor": 5
}
