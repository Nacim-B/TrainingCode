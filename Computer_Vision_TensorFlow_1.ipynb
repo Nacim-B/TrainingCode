{
 "cells": [
  {
   "cell_type": "code",
   "execution_count": 1,
   "id": "8068519c",
   "metadata": {},
   "outputs": [],
   "source": [
    "import os\n",
    "import io\n",
    "from PIL import Image\n",
    "import time\n",
    "import shutil\n",
    "from selenium import webdriver\n",
    "from webdriver_manager.chrome import ChromeDriverManager\n",
    "import requests\n",
    "from selenium.webdriver.common.by import By"
   ]
  },
  {
   "cell_type": "code",
   "execution_count": 2,
   "id": "27ddd67a",
   "metadata": {},
   "outputs": [],
   "source": [
    "players = ['Larry_Bird']\n",
    "nbr_imgs = 5"
   ]
  },
  {
   "cell_type": "code",
   "execution_count": 3,
   "id": "31946e17",
   "metadata": {},
   "outputs": [],
   "source": [
    "IMAGES_PATH = os.path.join('data', 'dream_team')"
   ]
  },
  {
   "cell_type": "code",
   "execution_count": 4,
   "id": "499645ec",
   "metadata": {},
   "outputs": [],
   "source": [
    "wd = webdriver.Chrome()"
   ]
  },
  {
   "cell_type": "code",
   "execution_count": 5,
   "id": "d349e52e",
   "metadata": {},
   "outputs": [],
   "source": [
    "def download_image(download_path, url, file_name):\n",
    "    try:\n",
    "        image_content = requests.get(url).content\n",
    "        image_file = io.BytesIO(image_content)\n",
    "        image = Image.open(image_file)\n",
    "        file_path = download_path + \"/\" + file_name \n",
    "        \n",
    "        with open(file_path, 'wb') as f:\n",
    "            image.save(f, 'JPEG')\n",
    "    \n",
    "    except Exception as e:\n",
    "        print('FAILED -', e)"
   ]
  },
  {
   "cell_type": "code",
   "execution_count": 6,
   "id": "1152c8d7",
   "metadata": {},
   "outputs": [],
   "source": [
    "def get_images_from_google_images(wd, delay, max_images, player):\n",
    "    def scroll_down(wd):\n",
    "        wd.execute_script('window.scrollTo(0, document.body.scrollHeight);')\n",
    "        time.sleep(delay)\n",
    "    url = f\"https://www.google.com/search?q={player}&sca_esv=557430156&tbm=isch&source=lnms&sa=X&ved=2ahUKEwj_lvuHjuGAAxWiVKQEHRmrDQwQ_AUoAXoECAMQAw&biw=1280&bih=602&dpr=1\"\n",
    "    wd.get(url)\n",
    "    \n",
    "    image_urls = set()\n",
    "    \n",
    "    while len(image_urls) < max_images:\n",
    "        scroll_down(wd)\n",
    "        \n",
    "        thumbnails = wd.find_elements(By.CLASS_NAME ,\"Q4LuWd\")\n",
    "        \n",
    "        for img in thumbnails[len(image_urls): max_images]:\n",
    "            try:\n",
    "                img.click()\n",
    "                time.sleep(delay)\n",
    "            except:\n",
    "                continue\n",
    "                \n",
    "            images = wd.find_elements(By.CLASS_NAME,\"iPVvYb\")\n",
    "            \n",
    "            for image in images :\n",
    "                if image.get_attribute('src') and 'http' in image.get_attribute('src'):\n",
    "                    image_urls.add(image.get_attribute('src'))\n",
    "                           \n",
    "    return image_urls \n",
    "                            \n",
    "    "
   ]
  },
  {
   "cell_type": "code",
   "execution_count": 7,
   "id": "3759836a",
   "metadata": {},
   "outputs": [],
   "source": [
    "def execute_download():\n",
    "    for player in players:\n",
    "    \n",
    "        if not os.path.exists(IMAGES_PATH):\n",
    "            if os.name == 'posix':\n",
    "                !mkdir -p {IMAGES_PATH}\n",
    "            if os.name == 'nt':\n",
    "                !mkdir {IMAGES_PATH}\n",
    "\n",
    "        path = os.path.join(IMAGES_PATH, player)\n",
    "\n",
    "        if not os.path.exists(path):\n",
    "            !mkdir {path}\n",
    "\n",
    "        urls = get_images_from_google_images(wd, 2, nbr_imgs, player)\n",
    "        for i, url in enumerate(urls):\n",
    "                download_image(path, url, player + str(i) + \".jpeg\" )\n",
    "    wd.quit()"
   ]
  },
  {
   "cell_type": "code",
   "execution_count": 8,
   "id": "2f51d642",
   "metadata": {
    "scrolled": true
   },
   "outputs": [],
   "source": [
    "output_folder = os.path.join('data')\n",
    "percentage_to_move = 80\n",
    "\n",
    "def move_even_number_of_files(source_folder, dest_folder, percentage_to_keep):\n",
    "    all_files = os.listdir(source_folder)\n",
    "    all_files.sort()  # Triez les noms de fichiers par ordre alphabétique\n",
    "    \n",
    "    num_files = len(all_files)\n",
    "    num_files_to_move = int(num_files * percentage_to_move / 100)\n",
    "    \n",
    "    # Assurez-vous que num_files_to_keep est un nombre pair\n",
    "    if num_files_to_move % 2 != 0:\n",
    "        num_files_to_move -= 1\n",
    "    \n",
    "    sorted_files = all_files[:num_files_to_move]\n",
    "    \n",
    "    for file_name in sorted_files:\n",
    "        source_path = os.path.join(source_folder, file_name)\n",
    "        dest_path = os.path.join(dest_folder, file_name)\n",
    "        shutil.move(source_path, dest_path)\n"
   ]
  },
  {
   "cell_type": "code",
   "execution_count": 9,
   "id": "ec5ee20d",
   "metadata": {},
   "outputs": [],
   "source": [
    "def execute_lebelIMG():\n",
    "    LABELIMG_PATH = os.path.join('data', 'labelImg_resources')\n",
    "\n",
    "    if not os.path.exists(LABELIMG_PATH):\n",
    "        !mkdir (LABELIMG_PATH)\n",
    "        !git clone https://github.com/tzutalin/labelImg {LABELIMG_PATH}\n",
    "        \n",
    "    if os.name == 'posix':\n",
    "        !cd {LABELIMG_PATH} && make qt5py3\n",
    "    if os.name == 'nt':\n",
    "        !cd {LABELIMG_PATH} && pyrcc5 -o libs/resources.py resources.qrc\n",
    "    \n",
    "    !cd {LABELIMG_PATH}  && python labelImg.py"
   ]
  },
  {
   "cell_type": "code",
   "execution_count": 10,
   "id": "ab1e6cf3",
   "metadata": {},
   "outputs": [],
   "source": [
    "execute_download()"
   ]
  },
  {
   "cell_type": "code",
   "execution_count": 11,
   "id": "c1a555df",
   "metadata": {},
   "outputs": [
    {
     "name": "stdout",
     "output_type": "stream",
     "text": [
      "pyrcc5 -o libs/resources.py resources.qrc\n",
      "^C\n"
     ]
    }
   ],
   "source": [
    "execute_lebelIMG()"
   ]
  },
  {
   "cell_type": "code",
   "execution_count": 12,
   "id": "724785d7",
   "metadata": {},
   "outputs": [],
   "source": [
    "# Créer le dossier \"train\" au niveau du dossier parent\n",
    "train_folder = os.path.join(IMAGES_PATH, \"train\")\n",
    "os.makedirs(train_folder, exist_ok=True)\n",
    "\n",
    "# Parcourir tous les sous-dossiers du dossier parent\n",
    "for subfolder in os.listdir(IMAGES_PATH):\n",
    "    subfolder_path = os.path.join(IMAGES_PATH, subfolder)\n",
    "    \n",
    "    # S'assurer que subfolder_path est un dossier\n",
    "    if os.path.isdir(subfolder_path):\n",
    "        move_even_number_of_files(subfolder_path, train_folder, percentage_to_move)"
   ]
  },
  {
   "cell_type": "code",
   "execution_count": null,
   "id": "7f1d723f",
   "metadata": {},
   "outputs": [],
   "source": []
  }
 ],
 "metadata": {
  "kernelspec": {
   "display_name": "Python 3 (ipykernel)",
   "language": "python",
   "name": "python3"
  },
  "language_info": {
   "codemirror_mode": {
    "name": "ipython",
    "version": 3
   },
   "file_extension": ".py",
   "mimetype": "text/x-python",
   "name": "python",
   "nbconvert_exporter": "python",
   "pygments_lexer": "ipython3",
   "version": "3.9.16"
  }
 },
 "nbformat": 4,
 "nbformat_minor": 5
}
