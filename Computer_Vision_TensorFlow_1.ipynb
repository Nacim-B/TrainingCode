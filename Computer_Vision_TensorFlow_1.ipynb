{
 "cells": [
  {
   "cell_type": "code",
   "execution_count": 20,
   "id": "8068519c",
   "metadata": {},
   "outputs": [],
   "source": [
    "import os\n",
    "import glob\n",
    "import io\n",
    "from PIL import Image\n",
    "import time\n",
    "import shutil\n",
    "from selenium import webdriver\n",
    "from webdriver_manager.chrome import ChromeDriverManager\n",
    "import requests\n",
    "from selenium.webdriver.common.by import By\n",
    "import xml.etree.ElementTree as ET\n",
    "import pandas as pd"
   ]
  },
  {
   "cell_type": "code",
   "execution_count": 14,
   "id": "27ddd67a",
   "metadata": {},
   "outputs": [],
   "source": [
    "players = ['Magic_Johnson', 'Michael_Jordan']\n",
    "nbr_imgs = 10"
   ]
  },
  {
   "cell_type": "code",
   "execution_count": 15,
   "id": "31946e17",
   "metadata": {},
   "outputs": [],
   "source": [
    "IMAGES_PATH = os.path.join('data', 'dream_team')"
   ]
  },
  {
   "cell_type": "code",
   "execution_count": 4,
   "id": "499645ec",
   "metadata": {},
   "outputs": [],
   "source": [
    "wd = webdriver.Chrome()"
   ]
  },
  {
   "cell_type": "code",
   "execution_count": 5,
   "id": "d349e52e",
   "metadata": {},
   "outputs": [],
   "source": [
    "def download_image(download_path, url, file_name):\n",
    "    try:\n",
    "        image_content = requests.get(url).content\n",
    "        image_file = io.BytesIO(image_content)\n",
    "        image = Image.open(image_file)\n",
    "        file_path = download_path + \"/\" + file_name \n",
    "        \n",
    "        with open(file_path, 'wb') as f:\n",
    "            image.save(f, 'JPEG')\n",
    "    \n",
    "    except Exception as e:\n",
    "        print('FAILED -', e)\n",
    "        if os.path.exists(file_path):\n",
    "            os.remove(file_path)\n",
    "            print('Image deleted due to exception.')"
   ]
  },
  {
   "cell_type": "code",
   "execution_count": 6,
   "id": "1152c8d7",
   "metadata": {},
   "outputs": [],
   "source": [
    "def get_images_from_google_images(wd, delay, max_images, player):\n",
    "    def scroll_down(wd):\n",
    "        wd.execute_script('window.scrollTo(0, document.body.scrollHeight);')\n",
    "        time.sleep(delay)\n",
    "    url = f\"https://www.google.com/search?q={player}&sca_esv=557430156&tbm=isch&source=lnms&sa=X&ved=2ahUKEwj_lvuHjuGAAxWiVKQEHRmrDQwQ_AUoAXoECAMQAw&biw=1280&bih=602&dpr=1\"\n",
    "    wd.get(url)\n",
    "    \n",
    "    image_urls = set()\n",
    "    \n",
    "    while len(image_urls) < max_images:\n",
    "        scroll_down(wd)\n",
    "        \n",
    "        thumbnails = wd.find_elements(By.CLASS_NAME ,\"Q4LuWd\")\n",
    "        \n",
    "        for img in thumbnails[len(image_urls): max_images]:\n",
    "            try:\n",
    "                img.click()\n",
    "                time.sleep(delay)\n",
    "            except:\n",
    "                continue\n",
    "                \n",
    "            images = wd.find_elements(By.CLASS_NAME,\"iPVvYb\")\n",
    "            \n",
    "            for image in images :\n",
    "                if image.get_attribute('src') and 'http' in image.get_attribute('src'):\n",
    "                    image_urls.add(image.get_attribute('src'))\n",
    "                           \n",
    "    return image_urls \n",
    "                            \n",
    "    "
   ]
  },
  {
   "cell_type": "code",
   "execution_count": 7,
   "id": "3759836a",
   "metadata": {},
   "outputs": [],
   "source": [
    "def execute_download():\n",
    "    for player in players:\n",
    "    \n",
    "        if not os.path.exists(IMAGES_PATH):\n",
    "            if os.name == 'posix':\n",
    "                !mkdir -p {IMAGES_PATH}\n",
    "            if os.name == 'nt':\n",
    "                !mkdir {IMAGES_PATH}\n",
    "\n",
    "        path = os.path.join(IMAGES_PATH, player)\n",
    "\n",
    "        if not os.path.exists(path):\n",
    "            !mkdir {path}\n",
    "\n",
    "        urls = get_images_from_google_images(wd, 2, nbr_imgs, player)\n",
    "        for i, url in enumerate(urls):\n",
    "                download_image(path, url, player + str(i) + \".jpeg\" )\n",
    "    wd.quit()"
   ]
  },
  {
   "cell_type": "code",
   "execution_count": 8,
   "id": "2f51d642",
   "metadata": {
    "scrolled": true
   },
   "outputs": [],
   "source": [
    "output_folder = os.path.join('data')\n",
    "percentage_to_move = 80\n",
    "\n",
    "def move_even_number_of_files(source_folder, dest_folder, percentage_to_keep):\n",
    "    all_files = os.listdir(source_folder)\n",
    "    all_files.sort()  # Triez les noms de fichiers par ordre alphabétique\n",
    "    \n",
    "    num_files = len(all_files)\n",
    "    num_files_to_move = int(num_files * percentage_to_move / 100)\n",
    "    \n",
    "    # Assurez-vous que num_files_to_keep est un nombre pair\n",
    "    if num_files_to_move % 2 != 0:\n",
    "        num_files_to_move -= 1\n",
    "    \n",
    "    sorted_files = all_files[:num_files_to_move]\n",
    "    \n",
    "    for file_name in sorted_files:\n",
    "        try:\n",
    "            source_path = os.path.join(source_folder, file_name)\n",
    "            dest_path = os.path.join(dest_folder, file_name)\n",
    "            shutil.move(source_path, dest_path)\n",
    "        except:\n",
    "            continue\n"
   ]
  },
  {
   "cell_type": "code",
   "execution_count": 9,
   "id": "b14ca385",
   "metadata": {},
   "outputs": [],
   "source": [
    "def execute_lebelIMG():\n",
    "    LABELIMG_PATH = os.path.join('data', 'labelImg_resources')\n",
    "\n",
    "    if not os.path.exists(LABELIMG_PATH):\n",
    "        !mkdir (LABELIMG_PATH)\n",
    "        !git clone https://github.com/tzutalin/labelImg {LABELIMG_PATH}\n",
    "        \n",
    "    if os.name == 'posix':\n",
    "        !cd {LABELIMG_PATH} && make qt5py3\n",
    "    if os.name == 'nt':\n",
    "        !cd {LABELIMG_PATH} && pyrcc5 -o libs/resources.py resources.qrc\n",
    "    \n",
    "    !cd {LABELIMG_PATH}  && python labelImg.py"
   ]
  },
  {
   "cell_type": "code",
   "execution_count": 10,
   "id": "ab1e6cf3",
   "metadata": {},
   "outputs": [
    {
     "name": "stdout",
     "output_type": "stream",
     "text": [
      "FAILED - cannot write mode P as JPEG\n",
      "Image deleted due to exception.\n",
      "FAILED - cannot write mode P as JPEG\n",
      "Image deleted due to exception.\n"
     ]
    }
   ],
   "source": [
    "execute_download()"
   ]
  },
  {
   "cell_type": "code",
   "execution_count": 11,
   "id": "c3457db1",
   "metadata": {},
   "outputs": [
    {
     "name": "stdout",
     "output_type": "stream",
     "text": [
      "pyrcc5 -o libs/resources.py resources.qrc\n",
      "Image:/Users/pctest/Documents/MyGitProjects/Training Code/data/dream_team/Magic_Johnson/Magic_Johnson0.jpeg -> Annotation:/Users/pctest/Documents/MyGitProjects/Training Code/data/dream_team/Magic_Johnson/Magic_Johnson0.xml\n",
      "Image:/Users/pctest/Documents/MyGitProjects/Training Code/data/dream_team/Magic_Johnson/Magic_Johnson1.jpeg -> Annotation:/Users/pctest/Documents/MyGitProjects/Training Code/data/dream_team/Magic_Johnson/Magic_Johnson1.xml\n",
      "Image:/Users/pctest/Documents/MyGitProjects/Training Code/data/dream_team/Magic_Johnson/Magic_Johnson2.jpeg -> Annotation:/Users/pctest/Documents/MyGitProjects/Training Code/data/dream_team/Magic_Johnson/Magic_Johnson2.xml\n",
      "Image:/Users/pctest/Documents/MyGitProjects/Training Code/data/dream_team/Magic_Johnson/Magic_Johnson3.jpeg -> Annotation:/Users/pctest/Documents/MyGitProjects/Training Code/data/dream_team/Magic_Johnson/Magic_Johnson3.xml\n",
      "Image:/Users/pctest/Documents/MyGitProjects/Training Code/data/dream_team/Magic_Johnson/Magic_Johnson4.jpeg -> Annotation:/Users/pctest/Documents/MyGitProjects/Training Code/data/dream_team/Magic_Johnson/Magic_Johnson4.xml\n",
      "Image:/Users/pctest/Documents/MyGitProjects/Training Code/data/dream_team/Magic_Johnson/Magic_Johnson5.jpeg -> Annotation:/Users/pctest/Documents/MyGitProjects/Training Code/data/dream_team/Magic_Johnson/Magic_Johnson5.xml\n",
      "Image:/Users/pctest/Documents/MyGitProjects/Training Code/data/dream_team/Magic_Johnson/Magic_Johnson6.jpeg -> Annotation:/Users/pctest/Documents/MyGitProjects/Training Code/data/dream_team/Magic_Johnson/Magic_Johnson6.xml\n",
      "Image:/Users/pctest/Documents/MyGitProjects/Training Code/data/dream_team/Magic_Johnson/Magic_Johnson7.jpeg -> Annotation:/Users/pctest/Documents/MyGitProjects/Training Code/data/dream_team/Magic_Johnson/Magic_Johnson7.xml\n",
      "Image:/Users/pctest/Documents/MyGitProjects/Training Code/data/dream_team/Magic_Johnson/Magic_Johnson9.jpeg -> Annotation:/Users/pctest/Documents/MyGitProjects/Training Code/data/dream_team/Magic_Johnson/Magic_Johnson9.xml\n",
      "Image:/Users/pctest/Documents/MyGitProjects/Training Code/data/dream_team/Michael_Jordan/Michael_Jordan0.jpeg -> Annotation:/Users/pctest/Documents/MyGitProjects/Training Code/data/dream_team/Michael_Jordan/Michael_Jordan0.xml\n",
      "Image:/Users/pctest/Documents/MyGitProjects/Training Code/data/dream_team/Michael_Jordan/Michael_Jordan1.jpeg -> Annotation:/Users/pctest/Documents/MyGitProjects/Training Code/data/dream_team/Michael_Jordan/Michael_Jordan1.xml\n",
      "Image:/Users/pctest/Documents/MyGitProjects/Training Code/data/dream_team/Michael_Jordan/Michael_Jordan2.jpeg -> Annotation:/Users/pctest/Documents/MyGitProjects/Training Code/data/dream_team/Michael_Jordan/Michael_Jordan2.xml\n",
      "Image:/Users/pctest/Documents/MyGitProjects/Training Code/data/dream_team/Michael_Jordan/Michael_Jordan3.jpeg -> Annotation:/Users/pctest/Documents/MyGitProjects/Training Code/data/dream_team/Michael_Jordan/Michael_Jordan3.xml\n",
      "Image:/Users/pctest/Documents/MyGitProjects/Training Code/data/dream_team/Michael_Jordan/Michael_Jordan4.jpeg -> Annotation:/Users/pctest/Documents/MyGitProjects/Training Code/data/dream_team/Michael_Jordan/Michael_Jordan4.xml\n",
      "Image:/Users/pctest/Documents/MyGitProjects/Training Code/data/dream_team/Michael_Jordan/Michael_Jordan6.jpeg -> Annotation:/Users/pctest/Documents/MyGitProjects/Training Code/data/dream_team/Michael_Jordan/Michael_Jordan6.xml\n",
      "Image:/Users/pctest/Documents/MyGitProjects/Training Code/data/dream_team/Michael_Jordan/Michael_Jordan7.jpeg -> Annotation:/Users/pctest/Documents/MyGitProjects/Training Code/data/dream_team/Michael_Jordan/Michael_Jordan7.xml\n",
      "Image:/Users/pctest/Documents/MyGitProjects/Training Code/data/dream_team/Michael_Jordan/Michael_Jordan8.jpeg -> Annotation:/Users/pctest/Documents/MyGitProjects/Training Code/data/dream_team/Michael_Jordan/Michael_Jordan8.xml\n",
      "Image:/Users/pctest/Documents/MyGitProjects/Training Code/data/dream_team/Michael_Jordan/Michael_Jordan9.jpeg -> Annotation:/Users/pctest/Documents/MyGitProjects/Training Code/data/dream_team/Michael_Jordan/Michael_Jordan9.xml\n"
     ]
    }
   ],
   "source": [
    "execute_lebelIMG()"
   ]
  },
  {
   "cell_type": "code",
   "execution_count": 12,
   "id": "feaa15ff",
   "metadata": {},
   "outputs": [],
   "source": [
    "# Créer le dossier \"train\" au niveau du dossier parent\n",
    "train_folder = os.path.join(IMAGES_PATH, \"train\")\n",
    "os.makedirs(train_folder, exist_ok=True)\n",
    "\n",
    "# Créer le dossier \"test\" au niveau du dossier parent\n",
    "test_folder = os.path.join(IMAGES_PATH, \"test\")\n",
    "os.makedirs(test_folder, exist_ok=True)\n",
    "\n",
    "# Parcourir tous les sous-dossiers du dossier parent\n",
    "for subfolder in os.listdir(IMAGES_PATH):\n",
    "    subfolder_path = os.path.join(IMAGES_PATH, subfolder)\n",
    "    \n",
    "    # S'assurer que subfolder_path est un dossier\n",
    "    if os.path.isdir(subfolder_path) and subfolder != \"train\":\n",
    "        move_even_number_of_files(subfolder_path, train_folder, percentage_to_move)\n",
    "        \n",
    "    # Déplacer les fichiers restants vers le dossier \"test\"\n",
    "        remaining_files = os.listdir(subfolder_path)\n",
    "        \n",
    "        if remaining_files:\n",
    "            test_subfolder = os.path.join(test_folder, subfolder)\n",
    "            os.makedirs(test_subfolder, exist_ok=True)\n",
    "            \n",
    "            for file_name in remaining_files:\n",
    "                try:\n",
    "                    source_path = os.path.join(subfolder_path, file_name)\n",
    "                    dest_path = os.path.join(test_folder, file_name)\n",
    "                    shutil.move(source_path, dest_path)\n",
    "                except:\n",
    "                    continue\n",
    "        # Supprimer le dossier s'il est vide\n",
    "            if not os.listdir(subfolder_path):\n",
    "                os.rmdir(subfolder_path)\n",
    "                \n",
    "# Supprimer les dossiers vides dans le dossier \"test\"\n",
    "for subfolder in os.listdir(test_folder):\n",
    "    subfolder_path = os.path.join(test_folder, subfolder)\n",
    "    if os.path.isdir(subfolder_path) and not os.listdir(subfolder_path):\n",
    "        os.rmdir(subfolder_path)"
   ]
  },
  {
   "cell_type": "code",
   "execution_count": 22,
   "id": "46f40e1d",
   "metadata": {},
   "outputs": [],
   "source": [
    "def xml_to_csv(path):\n",
    "    xml_list = []\n",
    "    for xml_file in glob.glob(path + '/*.xml'):\n",
    "        tree = ET.parse(xml_file)\n",
    "        root = tree.getroot()\n",
    "        for member in root.findall('object'):\n",
    "            value = (root.find('filename').text,\n",
    "                     int(root.find('size')[0].text),\n",
    "                     int(root.find('size')[1].text),\n",
    "                     member[0].text,\n",
    "                     int(member[4][0].text),\n",
    "                     int(member[4][1].text),\n",
    "                     int(member[4][2].text),\n",
    "                     int(member[4][3].text)\n",
    "                     )\n",
    "            xml_list.append(value)\n",
    "    column_name = ['filename', 'width', 'height', 'class', 'xmin', 'ymin', 'xmax', 'ymax']\n",
    "    xml_df = pd.DataFrame(xml_list, columns=column_name)\n",
    "    return xml_df"
   ]
  },
  {
   "cell_type": "code",
   "execution_count": 23,
   "id": "dd43ae8a",
   "metadata": {},
   "outputs": [],
   "source": [
    "for folder in ['train', 'test']:\n",
    "    image_path = os.path.join(IMAGES_PATH, folder)\n",
    "    xml_df = xml_to_csv(image_path)\n",
    "    xml_df.to_csv((IMAGES_PATH + folder + '_labels.csv'), index = None )"
   ]
  },
  {
   "cell_type": "code",
   "execution_count": null,
   "id": "94fe5888",
   "metadata": {},
   "outputs": [],
   "source": []
  }
 ],
 "metadata": {
  "kernelspec": {
   "display_name": "Python 3 (ipykernel)",
   "language": "python",
   "name": "python3"
  },
  "language_info": {
   "codemirror_mode": {
    "name": "ipython",
    "version": 3
   },
   "file_extension": ".py",
   "mimetype": "text/x-python",
   "name": "python",
   "nbconvert_exporter": "python",
   "pygments_lexer": "ipython3",
   "version": "3.9.16"
  }
 },
 "nbformat": 4,
 "nbformat_minor": 5
}
